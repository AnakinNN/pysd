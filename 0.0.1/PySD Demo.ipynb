{
 "metadata": {
  "name": "",
  "signature": "sha256:135324d8acdfa60ef4767eedf734ef2b2cd3552fccb32921e52c232b6a239359"
 },
 "nbformat": 3,
 "nbformat_minor": 0,
 "worksheets": [
  {
   "cells": [
    {
     "cell_type": "markdown",
     "metadata": {},
     "source": [
      "# PySD Demo\n",
      "\n",
      "This is a demonstration of the PySD package prototype (version 0.0.1)\n",
      "It parses a subset of the SMILE language, including:\n",
      "\n",
      "    \"exprnd\" / \"exp\" / \"sin\" / \"cos\" / \"abs\" / \"int\" / \"inf\" / \"log10\" / \"pi\" /\n",
      "    \"sqrt\" / \"tan\" / \"lognormal\" / \"normal\" / \"poisson\" / \"ln\" / \"min\" / \"max\" /\n",
      "    \"random\" / \"arccos\" / \"arcsin\" / \"arctan\" / \"if_then_else\"\n",
      "\n",
      "But excluding any time-dependant functions (ie `\"pulse\"`) and any non-markov functions (ie `\"delay\"`).\n",
      "\n",
      "Start by importing the module:"
     ]
    },
    {
     "cell_type": "code",
     "collapsed": false,
     "input": [
      "import PySD"
     ],
     "language": "python",
     "metadata": {},
     "outputs": [
      {
       "output_type": "stream",
       "stream": "stdout",
       "text": [
        "Couldn't import dot_parser, loading of dot files will not be possible.\n"
       ]
      }
     ],
     "prompt_number": 1
    },
    {
     "cell_type": "markdown",
     "metadata": {},
     "source": [
      "We can then load a model from an XMILE file:"
     ]
    },
    {
     "cell_type": "code",
     "collapsed": false,
     "input": [
      "model = PySD.read_XMILE('corporate-growth.xml')"
     ],
     "language": "python",
     "metadata": {},
     "outputs": [],
     "prompt_number": 2
    },
    {
     "cell_type": "markdown",
     "metadata": {},
     "source": [
      "We can run the model, generating a pandas dataframe as output:"
     ]
    },
    {
     "cell_type": "code",
     "collapsed": false,
     "input": [
      "output = model.run_pandas()\n",
      "output.head()"
     ],
     "language": "python",
     "metadata": {},
     "outputs": [
      {
       "html": [
        "<div style=\"max-height:1000px;max-width:1500px;overflow:auto;\">\n",
        "<table border=\"1\" class=\"dataframe\">\n",
        "  <thead>\n",
        "    <tr style=\"text-align: right;\">\n",
        "      <th></th>\n",
        "      <th>backlog</th>\n",
        "      <th>delivery_delay_recognized</th>\n",
        "      <th>sales_force</th>\n",
        "    </tr>\n",
        "  </thead>\n",
        "  <tbody>\n",
        "    <tr>\n",
        "      <th>0.000</th>\n",
        "      <td> 8000.000000</td>\n",
        "      <td> 2</td>\n",
        "      <td> 10.000000</td>\n",
        "    </tr>\n",
        "    <tr>\n",
        "      <th>0.125</th>\n",
        "      <td> 7940.419089</td>\n",
        "      <td> 2</td>\n",
        "      <td> 10.046985</td>\n",
        "    </tr>\n",
        "    <tr>\n",
        "      <th>0.250</th>\n",
        "      <td> 7886.445340</td>\n",
        "      <td> 2</td>\n",
        "      <td> 10.094191</td>\n",
        "    </tr>\n",
        "    <tr>\n",
        "      <th>0.375</th>\n",
        "      <td> 7837.748417</td>\n",
        "      <td> 2</td>\n",
        "      <td> 10.141618</td>\n",
        "    </tr>\n",
        "    <tr>\n",
        "      <th>0.500</th>\n",
        "      <td> 7794.018142</td>\n",
        "      <td> 2</td>\n",
        "      <td> 10.189269</td>\n",
        "    </tr>\n",
        "  </tbody>\n",
        "</table>\n",
        "</div>"
       ],
       "metadata": {},
       "output_type": "pyout",
       "prompt_number": 3,
       "text": [
        "           backlog  delivery_delay_recognized  sales_force\n",
        "0.000  8000.000000                          2    10.000000\n",
        "0.125  7940.419089                          2    10.046985\n",
        "0.250  7886.445340                          2    10.094191\n",
        "0.375  7837.748417                          2    10.141618\n",
        "0.500  7794.018142                          2    10.189269"
       ]
      }
     ],
     "prompt_number": 3
    },
    {
     "cell_type": "markdown",
     "metadata": {},
     "source": [
      "From which we can plot the result:"
     ]
    },
    {
     "cell_type": "code",
     "collapsed": false,
     "input": [
      "output.plot(subplots=True);"
     ],
     "language": "python",
     "metadata": {},
     "outputs": [
      {
       "metadata": {},
       "output_type": "display_data",
       "png": "[encoded data removed]",
       "text": [
        "<matplotlib.figure.Figure at 0x1065e60d0>"
       ]
      }
     ],
     "prompt_number": 4
    },
    {
     "cell_type": "markdown",
     "metadata": {},
     "source": [
      "And for now, thats about it.\n",
      "\n",
      "In future versions, we'll add the rest of the XMILE functionality, simplify the dependencies, make it possible to modify parameters, and generally go from a proof of concept to a useful tool.\n",
      "\n",
      "If you're interested in helping out, contact:\n",
      "\n",
      "James Houghton\n",
      "\n",
      "    james.p.houghton@gmail.com"
     ]
    },
    {
     "cell_type": "code",
     "collapsed": false,
     "input": [],
     "language": "python",
     "metadata": {},
     "outputs": []
    }
   ],
   "metadata": {}
  }
 ]
}