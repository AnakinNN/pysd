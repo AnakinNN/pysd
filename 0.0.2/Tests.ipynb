{
 "metadata": {
  "name": "",
  "signature": "sha256:95283de669035d731601ccb4b307a9de93d28d9c0501b46164003de9dab96d39"
 },
 "nbformat": 3,
 "nbformat_minor": 0,
 "worksheets": [
  {
   "cells": [
    {
     "cell_type": "markdown",
     "metadata": {},
     "source": [
      "# Test all of PySD\n",
      "\n",
      "We'll try to build up tests for all of the functionality in PySD, starting with the lowest level, and working our way to full functionality.\n",
      "\n",
      "We should write a lot more tests..."
     ]
    },
    {
     "cell_type": "code",
     "collapsed": false,
     "input": [
      "import SMILE2Py"
     ],
     "language": "python",
     "metadata": {},
     "outputs": [],
     "prompt_number": 1
    },
    {
     "cell_type": "code",
     "collapsed": false,
     "input": [
      "def test_clean():\n",
      "    print SMILE2Py.clean('Moses_Supposes * His / TOESES^are\\nRoSeS')\n",
      "    \n",
      "test_clean()"
     ],
     "language": "python",
     "metadata": {},
     "outputs": [
      {
       "output_type": "stream",
       "stream": "stdout",
       "text": [
        "moses_supposes*his/toeses^are_roses\n"
       ]
      }
     ],
     "prompt_number": 2
    },
    {
     "cell_type": "code",
     "collapsed": false,
     "input": [
      "def test_arithmetic():\n",
      "    \n",
      "    ##### test that operators work and have correct priority\n",
      "    code, _ = SMILE2Py.translate('1<2')\n",
      "    assert eval(code) == True\n",
      "    \n",
      "    code, _ = SMILE2Py.translate('1>2')\n",
      "    assert eval(code) == False\n",
      "    \n",
      "    code, _ = SMILE2Py.translate('1=2')\n",
      "    assert eval(code) == False\n",
      "    \n",
      "    code, _ = SMILE2Py.translate('1<=2')\n",
      "    assert eval(code) == True\n",
      "    \n",
      "    code, _ = SMILE2Py.translate('1>=2')\n",
      "    assert eval(code) == False\n",
      "    \n",
      "    #test addition has priority over condition\n",
      "    code, _ = SMILE2Py.translate('2+3=4+2') \n",
      "    assert eval(code) == False\n",
      "    \n",
      "    #test multiplication has priority over addition\n",
      "    code, _ = SMILE2Py.translate('2+3*5') \n",
      "    assert eval(code) == 17\n",
      "    \n",
      "    #test exponents have priority over multiplication\n",
      "    code, _ = SMILE2Py.translate('3*4^4')\n",
      "    assert eval(code) == 768\n",
      "    \n",
      "    #test parenthesis has priority over exponents\n",
      "    code, _ = SMILE2Py.translate('(3*4)^4')\n",
      "    assert eval(code) == 20736\n",
      "    \n",
      "    #test function calls have priority over parenthesis\n",
      "\n",
      "test_arithmetic()"
     ],
     "language": "python",
     "metadata": {},
     "outputs": [],
     "prompt_number": 3
    },
    {
     "cell_type": "code",
     "collapsed": false,
     "input": [
      "def test_identifiers():\n",
      "    #test that identifiers that start with reserved words get properly identified\n",
      "    code, identifiers = SMILE2Py.translate('Absolute_Mayhem')\n",
      "    assert identifiers == ['absolute_mayhem']\n",
      "    \n",
      "    #test that identifiers including newline charachters get them propery replaced with underscores\n",
      "    code, identifiers = SMILE2Py.translate('Multi\\nLine\\nIdentifier')\n",
      "    assert identifiers == ['multi_line_identifier']\n",
      "    \n",
      "test_identifiers()"
     ],
     "language": "python",
     "metadata": {},
     "outputs": [],
     "prompt_number": 4
    },
    {
     "cell_type": "code",
     "collapsed": false,
     "input": [
      "import PySD\n",
      "\n",
      "def test_functionality():\n",
      "    #Just run through the functions to make sure they execute. \n",
      "    #Will develop more comprehensive tests in the future\n",
      "    \n",
      "    model = PySD.read_XMILE('../example_models/corporate-growth.xml')\n",
      "    model.get_free_parameters()\n",
      "    model.run_pandas()\n",
      "    model.run_pandas(params={'normal_backlog':10, 'normal_delivery_rate':10})\n",
      "    \n",
      "test_functionality()"
     ],
     "language": "python",
     "metadata": {},
     "outputs": [
      {
       "output_type": "stream",
       "stream": "stdout",
       "text": [
        "Couldn't import dot_parser, loading of dot files will not be possible.\n"
       ]
      }
     ],
     "prompt_number": 5
    },
    {
     "cell_type": "code",
     "collapsed": false,
     "input": [],
     "language": "python",
     "metadata": {},
     "outputs": [],
     "prompt_number": 5
    }
   ],
   "metadata": {}
  }
 ]
}