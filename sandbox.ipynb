{
 "cells": [
  {
   "cell_type": "markdown",
   "metadata": {},
   "source": [
    "# Sandbox\n",
    "For playing around during development."
   ]
  },
  {
   "cell_type": "code",
   "execution_count": 1,
   "metadata": {
    "collapsed": false
   },
   "outputs": [
    {
     "name": "stdout",
     "output_type": "stream",
     "text": [
      "Populating the interactive namespace from numpy and matplotlib\n",
      "0.3.2\n",
      "pysd\\__init__.py\n"
     ]
    }
   ],
   "source": [
    "%pylab inline\n",
    "import pysd\n",
    "print pysd.__version__\n",
    "print pysd.__file__"
   ]
  },
  {
   "cell_type": "markdown",
   "metadata": {
    "collapsed": false
   },
   "source": [
    "# Testing various subscript Options\n"
   ]
  },
  {
   "cell_type": "code",
   "execution_count": 2,
   "metadata": {
    "collapsed": true
   },
   "outputs": [],
   "source": [
    "from __future__ import division \n",
    "import numpy as np \n",
    "from pysd import functions\n",
    "from scipy.integrate import odeint\n",
    "import itertools"
   ]
  },
  {
   "cell_type": "markdown",
   "metadata": {},
   "source": [
    "### option 1: unnamed array"
   ]
  },
  {
   "cell_type": "code",
   "execution_count": 3,
   "metadata": {
    "collapsed": false
   },
   "outputs": [],
   "source": [
    "class MinModel(object):\n",
    "    ##########  boilerplate stuff from the existing pysd #########\n",
    "    def __init__(self):\n",
    "        self._stocknames = [name[:-5] for name in dir(self) if name[-5:] == '_init']\n",
    "        self._stocknames.sort() #inplace\n",
    "        self._dfuncs = [getattr(self, 'd%s_dt'%name) for name in self._stocknames]\n",
    "        self.state = dict(zip(self._stocknames, [None]*len(self._stocknames)))\n",
    "        self.reset_state()\n",
    "        self.functions = functions.Functions(self)\n",
    "\n",
    "    def reset_state(self):\n",
    "        \"\"\"Sets the model state to the state described in the model file. \"\"\"\n",
    "        self.t = self.initial_time() #set the initial time\n",
    "        retry_flag = False\n",
    "        for key in self.state.keys():\n",
    "            try:\n",
    "                self.state[key] = eval('self.'+key+'_init()') #set the initial state\n",
    "            except TypeError:\n",
    "                retry_flag = True\n",
    "        if retry_flag:\n",
    "            self.reset_state() #potential for infinite loop!\n",
    "\n",
    "    ########### Stuff we have to modify to make subscripts work #########\n",
    "    def d_dt(self, state_vector, t):\n",
    "        \"\"\"The primary purpose of this function is to interact with the integrator.\n",
    "        It takes a state vector, sets the state of the system based on that vector,\n",
    "        and returns a derivative of the state vector\n",
    "        \"\"\"        \n",
    "        self.set_state(state_vector)\n",
    "        self.t = t\n",
    "        \n",
    "        derivative_vector = []\n",
    "        for func in self._dfuncs:\n",
    "            derivative_vector += list(func())\n",
    "            \n",
    "        return derivative_vector\n",
    "\n",
    "    def set_state(self, state_vector):\n",
    "        i = 0\n",
    "        for key in self._stocknames:\n",
    "            if isinstance(self.state[key], np.ndarray):\n",
    "                size = self.state[key].size\n",
    "                elements = state_vector[i:i+size]\n",
    "                shape = self.state[key].shape\n",
    "                self.state[key] = np.array(elements).reshape(shape)\n",
    "                i += size\n",
    "            else:\n",
    "                self.state[key] = state_vector[i]\n",
    "                i += 1\n",
    "\n",
    "        \n",
    "    def get_state(self):\n",
    "        #if we keep this, we should make it fully a list comprehension\n",
    "        state_vector = []\n",
    "        for item in [self.state[key] for key in self._stocknames]:\n",
    "            if isinstance(item, np.ndarray):\n",
    "                state_vector += list(item.flatten())\n",
    "            else:\n",
    "                state_vector += list(item)\n",
    "        return state_vector\n",
    "    \n",
    "    \n",
    "    ######### model specific components (that go in the model file)\n",
    "    suba_list = ['suba1', 'suba2', 'suba3']\n",
    "    subb_list = ['suba2', 'subb2']\n",
    "    \n",
    "    def stock(self, suba, subb):\n",
    "        return self.state['stock'][self.suba_list.index(suba)][self.subb_list.index(subb)] \n",
    "    \n",
    "    def stock_init(self):\n",
    "        return np.array([[1,1],[1,1],[1,1]])\n",
    "    \n",
    "    def dstock_dt(self):\n",
    "        return [self.flow(suba, subb) for suba, subb in itertools.product(self.suba_list, self.subb_list)]\n",
    "    \n",
    "    def constant(self, suba, subb):\n",
    "        values = np.array([[1,2],[3,4],[5,6]])\n",
    "        return values[self.suba_list.index(suba)][self.subb_list.index(subb)] \n",
    "    \n",
    "    def flow(self, suba, subb):\n",
    "        return self.constant(suba, subb) * self.stock(suba, subb)\n",
    "    \n",
    "    def initial_time(self):\n",
    "        return 0"
   ]
  },
  {
   "cell_type": "code",
   "execution_count": 4,
   "metadata": {
    "collapsed": false
   },
   "outputs": [],
   "source": [
    "a = MinModel()"
   ]
  },
  {
   "cell_type": "code",
   "execution_count": 5,
   "metadata": {
    "collapsed": false
   },
   "outputs": [
    {
     "data": {
      "text/plain": [
       "[1, 2, 3, 4, 5, 6]"
      ]
     },
     "execution_count": 5,
     "metadata": {},
     "output_type": "execute_result"
    }
   ],
   "source": [
    "a.dstock_dt()"
   ]
  },
  {
   "cell_type": "code",
   "execution_count": 6,
   "metadata": {
    "collapsed": false
   },
   "outputs": [
    {
     "data": {
      "text/plain": [
       "[1, 2, 3, 4, 5, 6]"
      ]
     },
     "execution_count": 6,
     "metadata": {},
     "output_type": "execute_result"
    }
   ],
   "source": [
    "a.d_dt(a.get_state(), 0)"
   ]
  },
  {
   "cell_type": "code",
   "execution_count": 7,
   "metadata": {
    "collapsed": false
   },
   "outputs": [
    {
     "data": {
      "text/plain": [
       "array([[  1.00000000e+00,   1.00000000e+00,   1.00000000e+00,\n",
       "          1.00000000e+00,   1.00000000e+00,   1.00000000e+00],\n",
       "       [  2.71828183e+00,   7.38905614e+00,   2.00855372e+01,\n",
       "          5.45981515e+01,   1.48413168e+02,   4.03428857e+02],\n",
       "       [  7.38905611e+00,   5.45981503e+01,   4.03428799e+02,\n",
       "          2.98095808e+03,   2.20264678e+04,   1.62754835e+05],\n",
       "       [  2.00855370e+01,   4.03428796e+02,   8.10308404e+03,\n",
       "          1.62754798e+05,   3.26901777e+06,   6.56599942e+07],\n",
       "       [  5.45981501e+01,   2.98095800e+03,   1.62754794e+05,\n",
       "          8.88611090e+06,   4.85165268e+08,   2.64891352e+10],\n",
       "       [  1.48413159e+02,   2.20264659e+04,   3.26901742e+06,\n",
       "          4.85165219e+08,   7.20049123e+10,   1.06864811e+13],\n",
       "       [  4.03428794e+02,   1.62754792e+05,   6.56599702e+07,\n",
       "          2.64891236e+10,   1.06864768e+13,   4.31123465e+15],\n",
       "       [  1.09663316e+03,   1.20260429e+06,   1.31881576e+09,\n",
       "          1.44625715e+12,   1.58601383e+15,   1.73927639e+18],\n",
       "       [  2.98095799e+03,   8.88611057e+06,   2.64891226e+10,\n",
       "          7.89629653e+13,   2.35385330e+17,   7.01674254e+20],\n",
       "       [  8.10308394e+03,   6.56599695e+07,   5.32048250e+11,\n",
       "          4.31123185e+15,   3.49342814e+19,   2.83075630e+23]])"
      ]
     },
     "execution_count": 7,
     "metadata": {},
     "output_type": "execute_result"
    }
   ],
   "source": [
    "odeint(a.d_dt, a.get_state(), range(10))"
   ]
  },
  {
   "cell_type": "markdown",
   "metadata": {
    "collapsed": true
   },
   "source": [
    "###option 2: xray's `DataArray`"
   ]
  },
  {
   "cell_type": "code",
   "execution_count": 8,
   "metadata": {
    "collapsed": true
   },
   "outputs": [],
   "source": [
    "from xray import DataArray\n",
    "\n",
    "class MinModel(object):\n",
    "    ##########  boilerplate stuff from the existing pysd #########\n",
    "    def __init__(self):\n",
    "        self._stocknames = [name[:-5] for name in dir(self) if name[-5:] == '_init']\n",
    "        self._stocknames.sort() #inplace\n",
    "        self._dfuncs = [getattr(self, 'd%s_dt'%name) for name in self._stocknames]\n",
    "        self.state = dict(zip(self._stocknames, [None]*len(self._stocknames)))\n",
    "        self.reset_state()\n",
    "        self.functions = functions.Functions(self)\n",
    "\n",
    "    def reset_state(self):\n",
    "        \"\"\"Sets the model state to the state described in the model file. \"\"\"\n",
    "        self.t = self.initial_time() #set the initial time\n",
    "        retry_flag = False\n",
    "        for key in self.state.keys():\n",
    "            try:\n",
    "                self.state[key] = eval('self.'+key+'_init()') #set the initial state\n",
    "            except TypeError:\n",
    "                retry_flag = True\n",
    "        if retry_flag:\n",
    "            self.reset_state() #potential for infinite loop!\n",
    "\n",
    "    ########### Stuff we have to modify to make subscripts work #########\n",
    "    def d_dt(self, state_vector, t):\n",
    "        \"\"\"The primary purpose of this function is to interact with the integrator.\n",
    "        It takes a state vector, sets the state of the system based on that vector,\n",
    "        and returns a derivative of the state vector\n",
    "        \"\"\"        \n",
    "        self.set_state(state_vector)\n",
    "        self.t = t\n",
    "        \n",
    "        derivative_vector = []\n",
    "        for func in self._dfuncs:\n",
    "            derivative_vector += list(func())\n",
    "            \n",
    "        return derivative_vector\n",
    "\n",
    "    def set_state(self, state_vector):\n",
    "        i = 0\n",
    "        for key in self._stocknames:\n",
    "            if isinstance(self.state[key], DataArray):\n",
    "                shape = self.state[key].shape\n",
    "                size = self.state[key].size\n",
    "                self.state[key].loc[:,:] = np.array(state_vector[i:i+size]).reshape(shape)\n",
    "                i += size\n",
    "            else:\n",
    "                self.state[key] = state_vector[i]\n",
    "                i += 1\n",
    "        \n",
    "    def get_state(self):\n",
    "        #if we keep this, we should make it fully a list comprehension\n",
    "        state_vector = []\n",
    "        for item in [self.state[key] for key in self._stocknames]:\n",
    "            if isinstance(item, DataArray):\n",
    "                state_vector += list(item.values.flatten())\n",
    "            else:\n",
    "                state_vector += list(item)\n",
    "        return state_vector\n",
    "    \n",
    "    \n",
    "    ######### model specific components (that go in the model file)\n",
    "    dim_dict = {'suba': ['subb1', 'subb2'],\n",
    "                'subb': ['suba1', 'suba2', 'suba3']}\n",
    "    \n",
    "    def stock(self, suba, subb):\n",
    "        return self.state['stock'].loc[suba, subb].values\n",
    "    \n",
    "    def stock_init(self):\n",
    "        return DataArray([[1,1],[1,1],[1,1]], self.dim_dict)\n",
    "    \n",
    "    def dstock_dt(self):\n",
    "        return [self.flow(suba, subb) for suba, subb in itertools.product(*self.dim_dict.values())]\n",
    "    \n",
    "    def constant(self, suba, subb):\n",
    "        values = DataArray([[1,2],[3,4],[5,6]], self.dim_dict)\n",
    "        return values.loc[suba, subb].values\n",
    "    \n",
    "    def flow(self, suba, subb):\n",
    "        return self.constant(suba, subb) * self.stock(suba, subb)\n",
    "    \n",
    "    def initial_time(self):\n",
    "        return 0"
   ]
  },
  {
   "cell_type": "code",
   "execution_count": 9,
   "metadata": {
    "collapsed": true
   },
   "outputs": [],
   "source": [
    "a = MinModel()"
   ]
  },
  {
   "cell_type": "code",
   "execution_count": 10,
   "metadata": {
    "collapsed": false
   },
   "outputs": [
    {
     "data": {
      "text/plain": [
       "[1, 2, 3, 4, 5, 6]"
      ]
     },
     "execution_count": 10,
     "metadata": {},
     "output_type": "execute_result"
    }
   ],
   "source": [
    "a.dstock_dt()"
   ]
  },
  {
   "cell_type": "code",
   "execution_count": 11,
   "metadata": {
    "collapsed": false
   },
   "outputs": [
    {
     "data": {
      "text/plain": [
       "[1, 1, 1, 1, 1, 1]"
      ]
     },
     "execution_count": 11,
     "metadata": {},
     "output_type": "execute_result"
    }
   ],
   "source": [
    "a.get_state()"
   ]
  },
  {
   "cell_type": "code",
   "execution_count": 12,
   "metadata": {
    "collapsed": false
   },
   "outputs": [
    {
     "data": {
      "text/plain": [
       "[1, 2, 3, 4, 5, 6]"
      ]
     },
     "execution_count": 12,
     "metadata": {},
     "output_type": "execute_result"
    }
   ],
   "source": [
    "a.d_dt(a.get_state(), 0)"
   ]
  },
  {
   "cell_type": "code",
   "execution_count": 13,
   "metadata": {
    "collapsed": false
   },
   "outputs": [
    {
     "name": "stderr",
     "output_type": "stream",
     "text": [
      "C:\\Anaconda\\lib\\site-packages\\scipy\\integrate\\odepack.py:156: ODEintWarning: Excess work done on this call (perhaps wrong Dfun type). Run with full_output = 1 to get quantitative information.\n",
      "  warnings.warn(warning_msg, ODEintWarning)\n"
     ]
    },
    {
     "data": {
      "text/plain": [
       "array([[ 1.        ,  1.        ,  1.        ,  1.        ,  1.        ,\n",
       "         1.        ],\n",
       "       [ 1.36660664,  1.73321329,  2.19963998,  2.93285319,  3.9990997 ,\n",
       "         5.58153282],\n",
       "       [ 0.        ,  0.        ,  0.        ,  0.        ,  0.        ,\n",
       "         0.        ],\n",
       "       [ 0.        ,  0.        ,  0.        ,  0.        ,  0.        ,\n",
       "         0.        ],\n",
       "       [ 0.        ,  0.        ,  0.        ,  0.        ,  0.        ,\n",
       "         0.        ],\n",
       "       [ 0.        ,  0.        ,  0.        ,  0.        ,  0.        ,\n",
       "         0.        ],\n",
       "       [ 0.        ,  0.        ,  0.        ,  0.        ,  0.        ,\n",
       "         0.        ],\n",
       "       [ 0.        ,  0.        ,  0.        ,  0.        ,  0.        ,\n",
       "         0.        ],\n",
       "       [ 0.        ,  0.        ,  0.        ,  0.        ,  0.        ,\n",
       "         0.        ],\n",
       "       [ 0.        ,  0.        ,  0.        ,  0.        ,  0.        ,\n",
       "         0.        ]])"
      ]
     },
     "execution_count": 13,
     "metadata": {},
     "output_type": "execute_result"
    }
   ],
   "source": [
    "odeint(a.d_dt, a.get_state(), range(10))"
   ]
  },
  {
   "cell_type": "code",
   "execution_count": null,
   "metadata": {
    "collapsed": true
   },
   "outputs": [],
   "source": []
  }
 ],
 "metadata": {
  "kernelspec": {
   "display_name": "Python 2",
   "language": "python",
   "name": "python2"
  },
  "language_info": {
   "codemirror_mode": {
    "name": "ipython",
    "version": 2
   },
   "file_extension": ".py",
   "mimetype": "text/x-python",
   "name": "python",
   "nbconvert_exporter": "python",
   "pygments_lexer": "ipython2",
   "version": "2.7.10"
  }
 },
 "nbformat": 4,
 "nbformat_minor": 0
}
