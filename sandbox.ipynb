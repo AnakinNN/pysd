{
 "cells": [
  {
   "cell_type": "markdown",
   "metadata": {},
   "source": [
    "# Sandbox\n",
    "For playing around during development."
   ]
  },
  {
   "cell_type": "code",
   "execution_count": 1,
   "metadata": {
    "collapsed": false
   },
   "outputs": [
    {
     "name": "stdout",
     "output_type": "stream",
     "text": [
      "Populating the interactive namespace from numpy and matplotlib\n",
      "0.3.2\n",
      "pysd/__init__.pyc\n"
     ]
    }
   ],
   "source": [
    "%pylab inline\n",
    "import pysd\n",
    "print pysd.__version__\n",
    "print pysd.__file__\n",
    "import pandas as pd"
   ]
  },
  {
   "cell_type": "code",
   "execution_count": 2,
   "metadata": {
    "collapsed": false
   },
   "outputs": [],
   "source": [
    "mdl_file = 'tests/test-models/tests/subscript_3d_arrays/test_subscript_3d_arrays.mdl'\n",
    "# mdl_file = 'tests/test-models/tests/subscript_2d_arrays/test_subscript_2d_arrays.mdl'\n",
    "mdl_file = 'tests/test-models/tests/subscript_individually_defined_1_of_2d_arrays/subscript_individually_defined_1_of_2d_arrays.mdl'\n",
    "model = pysd.read_vensim(mdl_file)"
   ]
  },
  {
   "cell_type": "code",
   "execution_count": 3,
   "metadata": {
    "collapsed": false
   },
   "outputs": [
    {
     "data": {
      "text/html": [
       "<div>\n",
       "<table border=\"1\" class=\"dataframe\">\n",
       "  <thead>\n",
       "    <tr style=\"text-align: right;\">\n",
       "      <th></th>\n",
       "      <th>stock_a</th>\n",
       "    </tr>\n",
       "  </thead>\n",
       "  <tbody>\n",
       "    <tr>\n",
       "      <th>0</th>\n",
       "      <td>[[1.0, 2.0], [3.0, 4.0], [5.0, 6.0]]</td>\n",
       "    </tr>\n",
       "    <tr>\n",
       "      <th>1</th>\n",
       "      <td>[[1.01, 2.02], [3.03, 4.04], [5.05, 6.06]]</td>\n",
       "    </tr>\n",
       "    <tr>\n",
       "      <th>2</th>\n",
       "      <td>[[1.02, 2.04], [3.06, 4.08], [5.1, 6.12]]</td>\n",
       "    </tr>\n",
       "    <tr>\n",
       "      <th>3</th>\n",
       "      <td>[[1.03, 2.06], [3.09, 4.12], [5.15, 6.18]]</td>\n",
       "    </tr>\n",
       "    <tr>\n",
       "      <th>4</th>\n",
       "      <td>[[1.04, 2.08], [3.12, 4.16], [5.2, 6.24]]</td>\n",
       "    </tr>\n",
       "  </tbody>\n",
       "</table>\n",
       "</div>"
      ],
      "text/plain": [
       "                                      stock_a\n",
       "0        [[1.0, 2.0], [3.0, 4.0], [5.0, 6.0]]\n",
       "1  [[1.01, 2.02], [3.03, 4.04], [5.05, 6.06]]\n",
       "2   [[1.02, 2.04], [3.06, 4.08], [5.1, 6.12]]\n",
       "3  [[1.03, 2.06], [3.09, 4.12], [5.15, 6.18]]\n",
       "4   [[1.04, 2.08], [3.12, 4.16], [5.2, 6.24]]"
      ]
     },
     "execution_count": 3,
     "metadata": {},
     "output_type": "execute_result"
    }
   ],
   "source": [
    "a = model.run()\n",
    "a.head()"
   ]
  },
  {
   "cell_type": "code",
   "execution_count": 4,
   "metadata": {
    "collapsed": false
   },
   "outputs": [
    {
     "data": {
      "text/plain": [
       "{'one_dimensional_subscript': 0, 'second_dimension_subscript': 1}"
      ]
     },
     "execution_count": 4,
     "metadata": {},
     "output_type": "execute_result"
    }
   ],
   "source": [
    "model.components.stock_a.dimension_directory"
   ]
  },
  {
   "cell_type": "code",
   "execution_count": 26,
   "metadata": {
    "collapsed": false
   },
   "outputs": [
    {
     "data": {
      "text/html": [
       "<div>\n",
       "<table border=\"1\" class=\"dataframe\">\n",
       "  <thead>\n",
       "    <tr style=\"text-align: right;\">\n",
       "      <th></th>\n",
       "      <th>hi</th>\n",
       "      <th>there</th>\n",
       "    </tr>\n",
       "  </thead>\n",
       "  <tbody>\n",
       "    <tr>\n",
       "      <th>0</th>\n",
       "      <td>1</td>\n",
       "      <td>1</td>\n",
       "    </tr>\n",
       "    <tr>\n",
       "      <th>1</th>\n",
       "      <td>1</td>\n",
       "      <td>1</td>\n",
       "    </tr>\n",
       "    <tr>\n",
       "      <th>2</th>\n",
       "      <td>1</td>\n",
       "      <td>1</td>\n",
       "    </tr>\n",
       "    <tr>\n",
       "      <th>3</th>\n",
       "      <td>1</td>\n",
       "      <td>1</td>\n",
       "    </tr>\n",
       "    <tr>\n",
       "      <th>4</th>\n",
       "      <td>1</td>\n",
       "      <td>1</td>\n",
       "    </tr>\n",
       "  </tbody>\n",
       "</table>\n",
       "</div>"
      ],
      "text/plain": [
       "   hi  there\n",
       "0   1      1\n",
       "1   1      1\n",
       "2   1      1\n",
       "3   1      1\n",
       "4   1      1"
      ]
     },
     "execution_count": 26,
     "metadata": {},
     "output_type": "execute_result"
    }
   ],
   "source": [
    "a = pd.DataFrame(data=1, index=range(5), columns=['hi','there'])\n",
    "a"
   ]
  },
  {
   "cell_type": "code",
   "execution_count": 33,
   "metadata": {
    "collapsed": true
   },
   "outputs": [],
   "source": [
    "a.columns = ['hi', 'mounir']"
   ]
  },
  {
   "cell_type": "code",
   "execution_count": 34,
   "metadata": {
    "collapsed": false
   },
   "outputs": [
    {
     "data": {
      "text/html": [
       "<div>\n",
       "<table border=\"1\" class=\"dataframe\">\n",
       "  <thead>\n",
       "    <tr style=\"text-align: right;\">\n",
       "      <th></th>\n",
       "      <th>hi</th>\n",
       "      <th>mounir</th>\n",
       "    </tr>\n",
       "  </thead>\n",
       "  <tbody>\n",
       "    <tr>\n",
       "      <th>0</th>\n",
       "      <td>1</td>\n",
       "      <td>1</td>\n",
       "    </tr>\n",
       "    <tr>\n",
       "      <th>1</th>\n",
       "      <td>1</td>\n",
       "      <td>1</td>\n",
       "    </tr>\n",
       "    <tr>\n",
       "      <th>2</th>\n",
       "      <td>1</td>\n",
       "      <td>1</td>\n",
       "    </tr>\n",
       "    <tr>\n",
       "      <th>3</th>\n",
       "      <td>1</td>\n",
       "      <td>1</td>\n",
       "    </tr>\n",
       "    <tr>\n",
       "      <th>4</th>\n",
       "      <td>1</td>\n",
       "      <td>1</td>\n",
       "    </tr>\n",
       "  </tbody>\n",
       "</table>\n",
       "</div>"
      ],
      "text/plain": [
       "   hi  mounir\n",
       "0   1       1\n",
       "1   1       1\n",
       "2   1       1\n",
       "3   1       1\n",
       "4   1       1"
      ]
     },
     "execution_count": 34,
     "metadata": {},
     "output_type": "execute_result"
    }
   ],
   "source": [
    "a"
   ]
  },
  {
   "cell_type": "code",
   "execution_count": 37,
   "metadata": {
    "collapsed": false
   },
   "outputs": [
    {
     "data": {
      "text/plain": [
       "{'hi', 'mounir', 'there'}"
      ]
     },
     "execution_count": 37,
     "metadata": {},
     "output_type": "execute_result"
    }
   ],
   "source": [
    "b = set(['hi', 'there'])\n",
    "b.add('mounir')\n",
    "b"
   ]
  },
  {
   "cell_type": "code",
   "execution_count": 52,
   "metadata": {
    "collapsed": false
   },
   "outputs": [
    {
     "data": {
      "text/plain": [
       "'hi'"
      ]
     },
     "execution_count": 52,
     "metadata": {},
     "output_type": "execute_result"
    }
   ],
   "source": [
    "c = set(['hi'])\n",
    "#len(c)\n",
    "list(c)[0]"
   ]
  },
  {
   "cell_type": "code",
   "execution_count": 49,
   "metadata": {
    "collapsed": false
   },
   "outputs": [
    {
     "data": {
      "text/plain": [
       "array([ 0.,  0.,  0.,  0.])"
      ]
     },
     "execution_count": 49,
     "metadata": {},
     "output_type": "execute_result"
    }
   ],
   "source": [
    "shape = np.zeros(4)\n",
    "shape"
   ]
  },
  {
   "cell_type": "code",
   "execution_count": 39,
   "metadata": {
    "collapsed": false
   },
   "outputs": [
    {
     "name": "stdout",
     "output_type": "stream",
     "text": [
      "[set(['one_dimensional_subscript']), set(['second_dimension_subscript'])]\n"
     ]
    }
   ],
   "source": [
    "\n",
    "\n",
    "subscript_references = [['one_dimensional_subscript', 'second_dimension_subscript']]\n",
    "\n",
    "num_dimensions = len(subscript_references[0])\n",
    "reference_sets = [set() for _ in range(num_dimensions)]\n",
    "    \n",
    "for subscript_reference in subscript_references:\n",
    "    [reference_sets[i].add(element) for i, element in enumerate(subscript_reference)]\n",
    "\n",
    "print reference_sets"
   ]
  },
  {
   "cell_type": "code",
   "execution_count": 22,
   "metadata": {
    "collapsed": false
   },
   "outputs": [
    {
     "data": {
      "text/plain": [
       "array([ 1.,  2.,  2.,  4.,  3.,  5.,  4.,  3.,  5.,  1.,  6.,  4.])"
      ]
     },
     "execution_count": 22,
     "metadata": {},
     "output_type": "execute_result"
    }
   ],
   "source": [
    "a.loc[0]['stock_a'].flatten()"
   ]
  },
  {
   "cell_type": "code",
   "execution_count": null,
   "metadata": {
    "collapsed": true
   },
   "outputs": [],
   "source": [
    "func(df, subdict, dimdict)"
   ]
  },
  {
   "cell_type": "code",
   "execution_count": 6,
   "metadata": {
    "collapsed": false
   },
   "outputs": [
    {
     "data": {
      "text/plain": [
       "{'one_dimensional_subscript': {'entry_1': 0, 'entry_2': 1, 'entry_3': 2},\n",
       " 'second_dimension_subscript': {'column_1': 0, 'column_2': 1},\n",
       " 'third_dimension_subscript': {'depth_1': 0, 'depth_2': 1}}"
      ]
     },
     "execution_count": 6,
     "metadata": {},
     "output_type": "execute_result"
    }
   ],
   "source": [
    "model.components._subscript_dict"
   ]
  },
  {
   "cell_type": "code",
   "execution_count": null,
   "metadata": {
    "collapsed": true
   },
   "outputs": [],
   "source": [
    "\n",
    "#inputs\n",
    "dataframe of model output\n",
    "\n",
    "subscript_dict = {'one_dimensional_subscript': {'entry_1': 0, 'entry_2': 1, 'entry_3': 2},\n",
    " 'second_dimension_subscript': {'column_1': 0, 'column_2': 1},\n",
    " 'third_dimension_subscript': {'depth_1': 0, 'depth_2': 1}}\n",
    "\n",
    "dimdict = {'one_dimensional_subscript': 0,\n",
    " 'second_dimension_subscript': 1,\n",
    " 'third_dimension_subscript': 2}\n",
    "\n",
    "#output\n",
    "#flattened dataframe of output with names akin to: \n",
    "    Rate A[Entry 1,Column 1]\tRate A[Entry 1,Column 2]\tRate A[Entry 2,Column 1]\tRate A[Entry 2,Column 2]\tRate A[Entry 3,Column 1]\tRate A[Entry 3,Column 2]"
   ]
  },
  {
   "cell_type": "code",
   "execution_count": null,
   "metadata": {
    "collapsed": true
   },
   "outputs": [],
   "source": [
    "list(['stock_a__entry_1__column_2__depth_2'])"
   ]
  },
  {
   "cell_type": "code",
   "execution_count": 14,
   "metadata": {
    "collapsed": false
   },
   "outputs": [],
   "source": [
    "subscript_dict = {'one_dimensional_subscript': (0, {'entry_1': 0, 'entry_2': 1, 'entry_3': 2}),\n",
    " 'second_dimension_subscript': (1, {'column_1': 0, 'column_2': 1}),\n",
    " 'third_dimension_subscript': (2, {'depth_1': 0, 'depth_2': 1})}"
   ]
  },
  {
   "cell_type": "code",
   "execution_count": 13,
   "metadata": {
    "collapsed": false
   },
   "outputs": [
    {
     "data": {
      "text/plain": [
       "array([[[  1.99,   3.98],\n",
       "        [  3.98,   8.95]],\n",
       "\n",
       "       [[  5.97,   6.98],\n",
       "        [  7.96,   6.96]],\n",
       "\n",
       "       [[  9.95,   5.95],\n",
       "        [ 11.94,   9.94]]])"
      ]
     },
     "execution_count": 13,
     "metadata": {},
     "output_type": "execute_result"
    }
   ],
   "source": [
    "array = model.components.stock_a()\n",
    "array"
   ]
  },
  {
   "cell_type": "code",
   "execution_count": 15,
   "metadata": {
    "collapsed": false
   },
   "outputs": [
    {
     "name": "stdout",
     "output_type": "stream",
     "text": [
      "second_dimension_subscript\n",
      "one_dimensional_subscript\n",
      "third_dimension_subscript\n"
     ]
    }
   ],
   "source": [
    "for family, subscripts in subscript_dict.iteritems():\n",
    "    "
   ]
  },
  {
   "cell_type": "code",
   "execution_count": 12,
   "metadata": {
    "collapsed": false
   },
   "outputs": [
    {
     "data": {
      "text/plain": [
       "array([  1.99,   3.98,   3.98,   8.95,   5.97,   6.98,   7.96,   6.96,\n",
       "         9.95,   5.95,  11.94,   9.94])"
      ]
     },
     "execution_count": 12,
     "metadata": {},
     "output_type": "execute_result"
    }
   ],
   "source": [
    "array.flatten()"
   ]
  },
  {
   "cell_type": "markdown",
   "metadata": {},
   "source": [
    "# prototype"
   ]
  },
  {
   "cell_type": "code",
   "execution_count": null,
   "metadata": {
    "collapsed": true
   },
   "outputs": [],
   "source": [
    "def get_array_info(subs, dictofsubs):\n",
    "    \"\"\"\n",
    "    Returns information needed to create and access members of the numpy array\n",
    "    based upon the string names given to them in the model file.\n",
    "\n",
    "    Parameters\n",
    "    ----------\n",
    "    subs : Array of strings of subscripts\n",
    "\n",
    "    returns\n",
    "    -------\n",
    "    A dictionary of the dimensions associating their names with their numpy indices\n",
    "    directory = {'dimension name 1':0, 'dimension name 2':1}\n",
    "    \n",
    "    A list of the length of each dimension. Equivalently, the shape of the array:\n",
    "    shape = [5,4]\n",
    "\n",
    "    \"\"\"\n",
    "    \n",
    "    for \n",
    "    \n",
    "    # Todo: rework this to account for subarrays\n",
    "    # todo: make this elementstr or something\n",
    "    position=[]\n",
    "    elements=element.replace('!','').replace('','').split(',')\n",
    "    for element in elements:\n",
    "        if element in dictofsubs.keys():\n",
    "            position.append(len(dictofsubs[element]))\n",
    "        else:\n",
    "            for d in dictofsubs.itervalues():\n",
    "                try:\n",
    "                    (d[element])\n",
    "                except: pass\n",
    "                else:\n",
    "                    position.append(len(d))\n",
    "\n",
    "    return position\n",
    "\n"
   ]
  },
  {
   "cell_type": "code",
   "execution_count": 55,
   "metadata": {
    "collapsed": false
   },
   "outputs": [
    {
     "ename": "SyntaxError",
     "evalue": "invalid syntax (<ipython-input-55-ad431173dcc6>, line 1)",
     "output_type": "error",
     "traceback": [
      "\u001b[0;36m  File \u001b[0;32m\"<ipython-input-55-ad431173dcc6>\"\u001b[0;36m, line \u001b[0;32m1\u001b[0m\n\u001b[0;31m    def hi:\u001b[0m\n\u001b[0m          ^\u001b[0m\n\u001b[0;31mSyntaxError\u001b[0m\u001b[0;31m:\u001b[0m invalid syntax\n"
     ]
    }
   ],
   "source": [
    "def hi:\n",
    "    return 1"
   ]
  },
  {
   "cell_type": "code",
   "execution_count": 74,
   "metadata": {
    "collapsed": false
   },
   "outputs": [
    {
     "data": {
      "text/plain": [
       "'c'"
      ]
     },
     "execution_count": 74,
     "metadata": {},
     "output_type": "execute_result"
    }
   ],
   "source": [
    "a = {'a':4, 'b':2, 'c':'r'}\n",
    "\n",
    "a.keys()[a.values().index('r')]"
   ]
  },
  {
   "cell_type": "code",
   "execution_count": 75,
   "metadata": {
    "collapsed": false
   },
   "outputs": [
    {
     "data": {
      "text/plain": [
       "['a', 'c', 'b']"
      ]
     },
     "execution_count": 75,
     "metadata": {},
     "output_type": "execute_result"
    }
   ],
   "source": [
    "a.keys()"
   ]
  },
  {
   "cell_type": "code",
   "execution_count": 76,
   "metadata": {
    "collapsed": false
   },
   "outputs": [
    {
     "data": {
      "text/plain": [
       "[4, 'r', 2]"
      ]
     },
     "execution_count": 76,
     "metadata": {},
     "output_type": "execute_result"
    }
   ],
   "source": [
    "a.values()"
   ]
  },
  {
   "cell_type": "code",
   "execution_count": null,
   "metadata": {
    "collapsed": true
   },
   "outputs": [],
   "source": [
    "result = df['stock_a'].apply(lambda x: pd.Series(x.flatten()))"
   ]
  },
  {
   "cell_type": "code",
   "execution_count": 77,
   "metadata": {
    "collapsed": false
   },
   "outputs": [
    {
     "data": {
      "text/plain": [
       "['hi there']"
      ]
     },
     "execution_count": 77,
     "metadata": {},
     "output_type": "execute_result"
    }
   ],
   "source": [
    "a = 'hi there'\n",
    "[a]"
   ]
  },
  {
   "cell_type": "code",
   "execution_count": null,
   "metadata": {
    "collapsed": true
   },
   "outputs": [],
   "source": []
  }
 ],
 "metadata": {
  "kernelspec": {
   "display_name": "Python 2",
   "language": "python",
   "name": "python2"
  },
  "language_info": {
   "codemirror_mode": {
    "name": "ipython",
    "version": 2
   },
   "file_extension": ".py",
   "mimetype": "text/x-python",
   "name": "python",
   "nbconvert_exporter": "python",
   "pygments_lexer": "ipython2",
   "version": "2.7.11"
  }
 },
 "nbformat": 4,
 "nbformat_minor": 0
}
