{
 "cells": [
  {
   "cell_type": "markdown",
   "metadata": {},
   "source": [
    "# Sandbox\n",
    "For playing around during development."
   ]
  },
  {
   "cell_type": "code",
   "execution_count": 1,
   "metadata": {
    "collapsed": false
   },
   "outputs": [
    {
     "name": "stdout",
     "output_type": "stream",
     "text": [
      "Populating the interactive namespace from numpy and matplotlib\n",
      "0.3.2\n",
      "pysd/__init__.pyc\n"
     ]
    }
   ],
   "source": [
    "%pylab inline\n",
    "import pysd\n",
    "print pysd.__version__\n",
    "print pysd.__file__\n",
    "import pandas as pd"
   ]
  },
  {
   "cell_type": "code",
   "execution_count": 4,
   "metadata": {
    "collapsed": false
   },
   "outputs": [
    {
     "ename": "AttributeError",
     "evalue": "(\"'Components' object has no attribute 'a'\", u'occurred at index 0.0')",
     "output_type": "error",
     "traceback": [
      "\u001b[0;31m---------------------------------------------------------------------------\u001b[0m",
      "\u001b[0;31mAttributeError\u001b[0m                            Traceback (most recent call last)",
      "\u001b[0;32m<ipython-input-4-064978273ba5>\u001b[0m in \u001b[0;36m<module>\u001b[0;34m()\u001b[0m\n\u001b[1;32m      1\u001b[0m \u001b[0mmodel\u001b[0m \u001b[0;34m=\u001b[0m \u001b[0mpysd\u001b[0m\u001b[0;34m.\u001b[0m\u001b[0mread_vensim\u001b[0m\u001b[0;34m(\u001b[0m\u001b[0;34m'tests/test-models-master/tests/lookups/test_lookups.mdl'\u001b[0m\u001b[0;34m)\u001b[0m\u001b[0;34m\u001b[0m\u001b[0m\n\u001b[0;32m----> 2\u001b[0;31m \u001b[0mmodel\u001b[0m\u001b[0;34m.\u001b[0m\u001b[0mrun\u001b[0m\u001b[0;34m(\u001b[0m\u001b[0mreturn_columns\u001b[0m\u001b[0;34m=\u001b[0m\u001b[0;34m'accumulation'\u001b[0m\u001b[0;34m)\u001b[0m\u001b[0;34m\u001b[0m\u001b[0m\n\u001b[0m",
      "\u001b[0;32m/Users/houghton/Google_Drive/Academic Projects/PYSD/pysd/pysd/pysd.py\u001b[0m in \u001b[0;36mrun\u001b[0;34m(self, params, return_columns, return_timestamps, initial_condition, collect, **intg_kwargs)\u001b[0m\n\u001b[1;32m    173\u001b[0m             \u001b[0mstate_df\u001b[0m \u001b[0;34m=\u001b[0m \u001b[0m_pd\u001b[0m\u001b[0;34m.\u001b[0m\u001b[0mDataFrame\u001b[0m\u001b[0;34m(\u001b[0m\u001b[0mindex\u001b[0m\u001b[0;34m=\u001b[0m\u001b[0mtseries\u001b[0m\u001b[0;34m,\u001b[0m \u001b[0mdata\u001b[0m\u001b[0;34m=\u001b[0m\u001b[0;36m1\u001b[0m\u001b[0;34m,\u001b[0m \u001b[0mcolumns\u001b[0m\u001b[0;34m=\u001b[0m\u001b[0;34m[\u001b[0m\u001b[0;34m'dummy'\u001b[0m\u001b[0;34m]\u001b[0m\u001b[0;34m)\u001b[0m\u001b[0;34m\u001b[0m\u001b[0m\n\u001b[1;32m    174\u001b[0m \u001b[0;34m\u001b[0m\u001b[0m\n\u001b[0;32m--> 175\u001b[0;31m         \u001b[0mreturn_df\u001b[0m \u001b[0;34m=\u001b[0m \u001b[0mself\u001b[0m\u001b[0;34m.\u001b[0m\u001b[0mextend_dataframe\u001b[0m\u001b[0;34m(\u001b[0m\u001b[0mstate_df\u001b[0m\u001b[0;34m,\u001b[0m \u001b[0mreturn_columns\u001b[0m\u001b[0;34m)\u001b[0m \u001b[0;32mif\u001b[0m \u001b[0mreturn_columns\u001b[0m \u001b[0;32melse\u001b[0m \u001b[0mstate_df\u001b[0m\u001b[0;34m\u001b[0m\u001b[0m\n\u001b[0m\u001b[1;32m    176\u001b[0m \u001b[0;34m\u001b[0m\u001b[0m\n\u001b[1;32m    177\u001b[0m         \u001b[0;32mif\u001b[0m \u001b[0maddtflag\u001b[0m\u001b[0;34m:\u001b[0m\u001b[0;34m\u001b[0m\u001b[0m\n",
      "\u001b[0;32m/Users/houghton/Google_Drive/Academic Projects/PYSD/pysd/pysd/pysd.py\u001b[0m in \u001b[0;36mextend_dataframe\u001b[0;34m(self, state_df, return_columns)\u001b[0m\n\u001b[1;32m    250\u001b[0m             \u001b[0;32mreturn\u001b[0m \u001b[0m_pd\u001b[0m\u001b[0;34m.\u001b[0m\u001b[0mSeries\u001b[0m\u001b[0;34m(\u001b[0m\u001b[0mreturn_vals\u001b[0m\u001b[0;34m)\u001b[0m\u001b[0;34m\u001b[0m\u001b[0m\n\u001b[1;32m    251\u001b[0m \u001b[0;34m\u001b[0m\u001b[0m\n\u001b[0;32m--> 252\u001b[0;31m         \u001b[0;32mreturn\u001b[0m \u001b[0mstate_df\u001b[0m\u001b[0;34m.\u001b[0m\u001b[0mapply\u001b[0m\u001b[0;34m(\u001b[0m\u001b[0mget_values\u001b[0m\u001b[0;34m,\u001b[0m \u001b[0maxis\u001b[0m\u001b[0;34m=\u001b[0m\u001b[0;36m1\u001b[0m\u001b[0;34m)\u001b[0m\u001b[0;34m\u001b[0m\u001b[0m\n\u001b[0m\u001b[1;32m    253\u001b[0m \u001b[0;34m\u001b[0m\u001b[0m\n\u001b[1;32m    254\u001b[0m \u001b[0;34m\u001b[0m\u001b[0m\n",
      "\u001b[0;32m/Users/houghton/anaconda/lib/python2.7/site-packages/pandas/core/frame.pyc\u001b[0m in \u001b[0;36mapply\u001b[0;34m(self, func, axis, broadcast, raw, reduce, args, **kwds)\u001b[0m\n\u001b[1;32m   3716\u001b[0m                     \u001b[0;32mif\u001b[0m \u001b[0mreduce\u001b[0m \u001b[0;32mis\u001b[0m \u001b[0mNone\u001b[0m\u001b[0;34m:\u001b[0m\u001b[0;34m\u001b[0m\u001b[0m\n\u001b[1;32m   3717\u001b[0m                         \u001b[0mreduce\u001b[0m \u001b[0;34m=\u001b[0m \u001b[0mTrue\u001b[0m\u001b[0;34m\u001b[0m\u001b[0m\n\u001b[0;32m-> 3718\u001b[0;31m                     \u001b[0;32mreturn\u001b[0m \u001b[0mself\u001b[0m\u001b[0;34m.\u001b[0m\u001b[0m_apply_standard\u001b[0m\u001b[0;34m(\u001b[0m\u001b[0mf\u001b[0m\u001b[0;34m,\u001b[0m \u001b[0maxis\u001b[0m\u001b[0;34m,\u001b[0m \u001b[0mreduce\u001b[0m\u001b[0;34m=\u001b[0m\u001b[0mreduce\u001b[0m\u001b[0;34m)\u001b[0m\u001b[0;34m\u001b[0m\u001b[0m\n\u001b[0m\u001b[1;32m   3719\u001b[0m             \u001b[0;32melse\u001b[0m\u001b[0;34m:\u001b[0m\u001b[0;34m\u001b[0m\u001b[0m\n\u001b[1;32m   3720\u001b[0m                 \u001b[0;32mreturn\u001b[0m \u001b[0mself\u001b[0m\u001b[0;34m.\u001b[0m\u001b[0m_apply_broadcast\u001b[0m\u001b[0;34m(\u001b[0m\u001b[0mf\u001b[0m\u001b[0;34m,\u001b[0m \u001b[0maxis\u001b[0m\u001b[0;34m)\u001b[0m\u001b[0;34m\u001b[0m\u001b[0m\n",
      "\u001b[0;32m/Users/houghton/anaconda/lib/python2.7/site-packages/pandas/core/frame.pyc\u001b[0m in \u001b[0;36m_apply_standard\u001b[0;34m(self, func, axis, ignore_failures, reduce)\u001b[0m\n\u001b[1;32m   3806\u001b[0m             \u001b[0;32mtry\u001b[0m\u001b[0;34m:\u001b[0m\u001b[0;34m\u001b[0m\u001b[0m\n\u001b[1;32m   3807\u001b[0m                 \u001b[0;32mfor\u001b[0m \u001b[0mi\u001b[0m\u001b[0;34m,\u001b[0m \u001b[0mv\u001b[0m \u001b[0;32min\u001b[0m \u001b[0menumerate\u001b[0m\u001b[0;34m(\u001b[0m\u001b[0mseries_gen\u001b[0m\u001b[0;34m)\u001b[0m\u001b[0;34m:\u001b[0m\u001b[0;34m\u001b[0m\u001b[0m\n\u001b[0;32m-> 3808\u001b[0;31m                     \u001b[0mresults\u001b[0m\u001b[0;34m[\u001b[0m\u001b[0mi\u001b[0m\u001b[0;34m]\u001b[0m \u001b[0;34m=\u001b[0m \u001b[0mfunc\u001b[0m\u001b[0;34m(\u001b[0m\u001b[0mv\u001b[0m\u001b[0;34m)\u001b[0m\u001b[0;34m\u001b[0m\u001b[0m\n\u001b[0m\u001b[1;32m   3809\u001b[0m                     \u001b[0mkeys\u001b[0m\u001b[0;34m.\u001b[0m\u001b[0mappend\u001b[0m\u001b[0;34m(\u001b[0m\u001b[0mv\u001b[0m\u001b[0;34m.\u001b[0m\u001b[0mname\u001b[0m\u001b[0;34m)\u001b[0m\u001b[0;34m\u001b[0m\u001b[0m\n\u001b[1;32m   3810\u001b[0m             \u001b[0;32mexcept\u001b[0m \u001b[0mException\u001b[0m \u001b[0;32mas\u001b[0m \u001b[0me\u001b[0m\u001b[0;34m:\u001b[0m\u001b[0;34m\u001b[0m\u001b[0m\n",
      "\u001b[0;32m/Users/houghton/Google_Drive/Academic Projects/PYSD/pysd/pysd/pysd.py\u001b[0m in \u001b[0;36mget_values\u001b[0;34m(row)\u001b[0m\n\u001b[1;32m    245\u001b[0m             \u001b[0mreturn_vals\u001b[0m \u001b[0;34m=\u001b[0m \u001b[0;34m{\u001b[0m\u001b[0;34m}\u001b[0m\u001b[0;34m\u001b[0m\u001b[0m\n\u001b[1;32m    246\u001b[0m             \u001b[0;32mfor\u001b[0m \u001b[0mcolumn\u001b[0m \u001b[0;32min\u001b[0m \u001b[0mreturn_columns\u001b[0m\u001b[0;34m:\u001b[0m \u001b[0;31m#there must be a faster way to do this...\u001b[0m\u001b[0;34m\u001b[0m\u001b[0m\n\u001b[0;32m--> 247\u001b[0;31m                 \u001b[0mfunc\u001b[0m \u001b[0;34m=\u001b[0m \u001b[0mgetattr\u001b[0m\u001b[0;34m(\u001b[0m\u001b[0mself\u001b[0m\u001b[0;34m.\u001b[0m\u001b[0mcomponents\u001b[0m\u001b[0;34m,\u001b[0m \u001b[0mcolumn\u001b[0m\u001b[0;34m)\u001b[0m\u001b[0;34m\u001b[0m\u001b[0m\n\u001b[0m\u001b[1;32m    248\u001b[0m                 \u001b[0mreturn_vals\u001b[0m\u001b[0;34m[\u001b[0m\u001b[0mcolumn\u001b[0m\u001b[0;34m]\u001b[0m \u001b[0;34m=\u001b[0m \u001b[0mfunc\u001b[0m\u001b[0;34m(\u001b[0m\u001b[0;34m)\u001b[0m\u001b[0;34m\u001b[0m\u001b[0m\n\u001b[1;32m    249\u001b[0m \u001b[0;34m\u001b[0m\u001b[0m\n",
      "\u001b[0;31mAttributeError\u001b[0m: (\"'Components' object has no attribute 'a'\", u'occurred at index 0.0')"
     ]
    }
   ],
   "source": [
    "model = pysd.read_vensim('tests/test-models-master/tests/lookups/test_lookups.mdl')\n",
    "model.run(return_columns='accumulation')"
   ]
  },
  {
   "cell_type": "code",
   "execution_count": 8,
   "metadata": {
    "collapsed": false
   },
   "outputs": [],
   "source": [
    "list().append('accumulation')\n"
   ]
  },
  {
   "cell_type": "markdown",
   "metadata": {
    "collapsed": false
   },
   "source": [
    "# Testing various subscript Options\n"
   ]
  },
  {
   "cell_type": "code",
   "execution_count": 2,
   "metadata": {
    "collapsed": true
   },
   "outputs": [],
   "source": [
    "from __future__ import division \n",
    "import numpy as np \n",
    "from pysd import functions\n",
    "from scipy.integrate import odeint\n",
    "import itertools"
   ]
  },
  {
   "cell_type": "markdown",
   "metadata": {},
   "source": [
    "### option 1: unnamed array"
   ]
  },
  {
   "cell_type": "code",
   "execution_count": 13,
   "metadata": {
    "collapsed": false
   },
   "outputs": [],
   "source": [
    "class MinModel(object):\n",
    "    ##########  boilerplate stuff from the existing pysd #########\n",
    "    def __init__(self):\n",
    "        self._stocknames = [name[:-5] for name in dir(self) if name[-5:] == '_init']\n",
    "        self._stocknames.sort() #inplace\n",
    "        self._dfuncs = [getattr(self, 'd%s_dt'%name) for name in self._stocknames]\n",
    "        self.state = dict(zip(self._stocknames, [None]*len(self._stocknames)))\n",
    "        self.reset_state()\n",
    "        self.functions = functions.Functions(self)\n",
    "\n",
    "    def reset_state(self):\n",
    "        \"\"\"Sets the model state to the state described in the model file. \"\"\"\n",
    "        self.t = self.initial_time() #set the initial time\n",
    "        retry_flag = False\n",
    "        for key in self.state.keys():\n",
    "            try:\n",
    "                self.state[key] = eval('self.'+key+'_init()') #set the initial state\n",
    "            except TypeError:\n",
    "                retry_flag = True\n",
    "        if retry_flag:\n",
    "            self.reset_state() #potential for infinite loop!\n",
    "\n",
    "    ########### Stuff we have to modify to make subscripts work #########\n",
    "    def d_dt(self, state_vector, t):\n",
    "        \"\"\"The primary purpose of this function is to interact with the integrator.\n",
    "        It takes a state vector, sets the state of the system based on that vector,\n",
    "        and returns a derivative of the state vector\n",
    "        \"\"\"        \n",
    "        self.set_state(state_vector)\n",
    "        self.t = t\n",
    "        \n",
    "        derivative_vector = []\n",
    "        for func in self._dfuncs:\n",
    "            derivative_vector += list(func())\n",
    "            \n",
    "        return derivative_vector\n",
    "\n",
    "    def set_state(self, state_vector):\n",
    "        i = 0\n",
    "        for key in self._stocknames:\n",
    "            if isinstance(self.state[key], np.ndarray):\n",
    "                size = self.state[key].size\n",
    "                elements = state_vector[i:i+size]\n",
    "                shape = self.state[key].shape\n",
    "                self.state[key] = np.array(elements).reshape(shape)\n",
    "                i += size\n",
    "            else:\n",
    "                self.state[key] = state_vector[i]\n",
    "                i += 1\n",
    "\n",
    "        \n",
    "    def get_state(self):\n",
    "        #if we keep this, we should make it fully a list comprehension\n",
    "        state_vector = []\n",
    "        for item in [self.state[key] for key in self._stocknames]:\n",
    "            if isinstance(item, np.ndarray):\n",
    "                state_vector += list(item.flatten())\n",
    "            else:\n",
    "                state_vector += list(item)\n",
    "        return state_vector\n",
    "    \n",
    "    \n",
    "    ######### model specific components (that go in the model file)\n",
    "    suba_list = ['suba1', 'suba2', 'suba3']\n",
    "    subb_list = ['suba2', 'subb2']\n",
    "    suba_index = dict(zip(suba_list, range(len(suba_list))))\n",
    "    subb_index = dict(zip(subb_list, range(len(subb_list))))\n",
    "    \n",
    "    def stock(self, suba, subb):\n",
    "        return self.state['stock'][self.suba_index[suba]][self.subb_index[subb]] \n",
    "    \n",
    "    def stock_init(self):\n",
    "        return np.array([[1,1],[1,1],[1,1]])\n",
    "    \n",
    "    def dstock_dt(self):\n",
    "        return [self.flow(suba, subb) for suba, subb in itertools.product(self.suba_list, self.subb_list)]\n",
    "    \n",
    "    def constant(self, suba, subb):\n",
    "        return self.constant.values[self.suba_index[suba]][self.subb_index[subb]]\n",
    "    constant.values = np.array([[1,2],[3,4],[5,6]])\n",
    "    \n",
    "    def flow(self, suba, subb):\n",
    "        return self.constant(suba, subb) * self.stock(suba, subb)\n",
    "    \n",
    "    def initial_time(self):\n",
    "        return 0"
   ]
  },
  {
   "cell_type": "code",
   "execution_count": 31,
   "metadata": {
    "collapsed": false
   },
   "outputs": [],
   "source": [
    "a = MinModel()"
   ]
  },
  {
   "cell_type": "code",
   "execution_count": 32,
   "metadata": {
    "collapsed": false
   },
   "outputs": [
    {
     "name": "stdout",
     "output_type": "stream",
     "text": [
      "100 loops, best of 3: 18.8 ms per loop\n"
     ]
    }
   ],
   "source": [
    "%%timeit\n",
    "a.reset_state()\n",
    "odeint(a.d_dt, a.get_state(), range(10))"
   ]
  },
  {
   "cell_type": "code",
   "execution_count": 34,
   "metadata": {
    "collapsed": false,
    "scrolled": true
   },
   "outputs": [
    {
     "name": "stdout",
     "output_type": "stream",
     "text": [
      " "
     ]
    }
   ],
   "source": [
    "%%prun\n",
    "odeint(a.d_dt, a.get_state(), range(10))"
   ]
  },
  {
   "cell_type": "markdown",
   "metadata": {
    "collapsed": true
   },
   "source": [
    "### option 2: xray's `DataArray`"
   ]
  },
  {
   "cell_type": "code",
   "execution_count": 8,
   "metadata": {
    "collapsed": false
   },
   "outputs": [
    {
     "ename": "ImportError",
     "evalue": "No module named xray",
     "output_type": "error",
     "traceback": [
      "\u001b[0;31m---------------------------------------------------------------------------\u001b[0m",
      "\u001b[0;31mImportError\u001b[0m                               Traceback (most recent call last)",
      "\u001b[0;32m<ipython-input-8-6ff0b468d708>\u001b[0m in \u001b[0;36m<module>\u001b[0;34m()\u001b[0m\n\u001b[0;32m----> 1\u001b[0;31m \u001b[0;32mfrom\u001b[0m \u001b[0mxray\u001b[0m \u001b[0;32mimport\u001b[0m \u001b[0mDataArray\u001b[0m\u001b[0;34m\u001b[0m\u001b[0m\n\u001b[0m\u001b[1;32m      2\u001b[0m \u001b[0;34m\u001b[0m\u001b[0m\n\u001b[1;32m      3\u001b[0m \u001b[0;32mclass\u001b[0m \u001b[0mcMinModel\u001b[0m\u001b[0;34m(\u001b[0m\u001b[0mobject\u001b[0m\u001b[0;34m)\u001b[0m\u001b[0;34m:\u001b[0m\u001b[0;34m\u001b[0m\u001b[0m\n\u001b[1;32m      4\u001b[0m     \u001b[0;31m##########  boilerplate stuff from the existing pysd #########\u001b[0m\u001b[0;34m\u001b[0m\u001b[0;34m\u001b[0m\u001b[0m\n\u001b[1;32m      5\u001b[0m     \u001b[0;32mdef\u001b[0m \u001b[0m__init__\u001b[0m\u001b[0;34m(\u001b[0m\u001b[0mself\u001b[0m\u001b[0;34m)\u001b[0m\u001b[0;34m:\u001b[0m\u001b[0;34m\u001b[0m\u001b[0m\n",
      "\u001b[0;31mImportError\u001b[0m: No module named xray"
     ]
    }
   ],
   "source": [
    "from xray import DataArray\n",
    "\n",
    "class cMinModel(object):\n",
    "    ##########  boilerplate stuff from the existing pysd #########\n",
    "    def __init__(self):\n",
    "        self._stocknames = [name[:-5] for name in dir(self) if name[-5:] == '_init']\n",
    "        self._stocknames.sort() #inplace\n",
    "        self._dfuncs = [getattr(self, 'd%s_dt'%name) for name in self._stocknames]\n",
    "        self.state = dict(zip(self._stocknames, [None]*len(self._stocknames)))\n",
    "        self.reset_state()\n",
    "        self.functions = functions.Functions(self)\n",
    "\n",
    "    def reset_state(self):\n",
    "        \"\"\"Sets the model state to the state described in the model file. \"\"\"\n",
    "        self.t = self.initial_time() #set the initial time\n",
    "        retry_flag = False\n",
    "        for key in self.state.keys():\n",
    "            try:\n",
    "                self.state[key] = eval('self.'+key+'_init()') #set the initial state\n",
    "            except TypeError:\n",
    "                retry_flag = True\n",
    "        if retry_flag:\n",
    "            self.reset_state() #potential for infinite loop!\n",
    "\n",
    "    ########### Stuff we have to modify to make subscripts work #########\n",
    "    def d_dt(self, state_vector, t):\n",
    "        \"\"\"The primary purpose of this function is to interact with the integrator.\n",
    "        It takes a state vector, sets the state of the system based on that vector,\n",
    "        and returns a derivative of the state vector\n",
    "        \"\"\"        \n",
    "        self.set_state(state_vector)\n",
    "        self.t = t\n",
    "        \n",
    "        derivative_vector = []\n",
    "        for func in self._dfuncs:\n",
    "            derivative_vector += list(func())\n",
    "            \n",
    "        return derivative_vector\n",
    "\n",
    "    def set_state(self, state_vector):\n",
    "        i = 0\n",
    "        for key in self._stocknames:\n",
    "            if isinstance(self.state[key], DataArray):\n",
    "                shape = self.state[key].shape\n",
    "                size = self.state[key].size\n",
    "                self.state[key].loc[:,:] = np.array(state_vector[i:i+size]).reshape(shape)\n",
    "                i += size\n",
    "            else:\n",
    "                self.state[key] = state_vector[i]\n",
    "                i += 1\n",
    "        \n",
    "    def get_state(self):\n",
    "        #if we keep this, we should make it fully a list comprehension\n",
    "        state_vector = []\n",
    "        for item in [self.state[key] for key in self._stocknames]:\n",
    "            if isinstance(item, DataArray):\n",
    "                state_vector += list(item.values.flatten())\n",
    "            else:\n",
    "                state_vector += list(item)\n",
    "        return state_vector\n",
    "    \n",
    "    \n",
    "    ######### model specific components (that go in the model file)\n",
    "    dim_dict = {'suba': ['subb1', 'subb2'],\n",
    "                'subb': ['suba1', 'suba2', 'suba3']}\n",
    "    \n",
    "    def stock(self, suba, subb):\n",
    "        return self.state['stock'].loc[suba, subb].values\n",
    "    \n",
    "    def stock_init(self):\n",
    "        return DataArray([[1,1],[1,1],[1,1]], self.dim_dict)\n",
    "    \n",
    "    def dstock_dt(self):\n",
    "        return [self.flow(suba, subb) for suba, subb in itertools.product(*self.dim_dict.values())]\n",
    "    \n",
    "    def constant(self, suba, subb):\n",
    "        #values = DataArray([[1,2],[3,4],[5,6]], self.dim_dict)\n",
    "        return self.constant.values.loc[suba, subb].values\n",
    "    constant.values = DataArray([[1,2],[3,4],[5,6]], dim_dict)\n",
    "    \n",
    "    def flow(self, suba, subb):\n",
    "        return self.constant(suba, subb) * self.stock(suba, subb)\n",
    "    \n",
    "    def initial_time(self):\n",
    "        return 0"
   ]
  },
  {
   "cell_type": "code",
   "execution_count": 22,
   "metadata": {
    "collapsed": true
   },
   "outputs": [],
   "source": [
    "a = MinModel()"
   ]
  },
  {
   "cell_type": "code",
   "execution_count": 23,
   "metadata": {
    "collapsed": false
   },
   "outputs": [
    {
     "data": {
      "text/plain": [
       "[1, 2, 3, 4, 5, 6]"
      ]
     },
     "execution_count": 23,
     "metadata": {},
     "output_type": "execute_result"
    }
   ],
   "source": [
    "a.dstock_dt()"
   ]
  },
  {
   "cell_type": "code",
   "execution_count": 24,
   "metadata": {
    "collapsed": false
   },
   "outputs": [
    {
     "data": {
      "text/plain": [
       "[1, 1, 1, 1, 1, 1]"
      ]
     },
     "execution_count": 24,
     "metadata": {},
     "output_type": "execute_result"
    }
   ],
   "source": [
    "a.get_state()"
   ]
  },
  {
   "cell_type": "code",
   "execution_count": 25,
   "metadata": {
    "collapsed": false
   },
   "outputs": [
    {
     "data": {
      "text/plain": [
       "[1, 2, 3, 4, 5, 6]"
      ]
     },
     "execution_count": 25,
     "metadata": {},
     "output_type": "execute_result"
    }
   ],
   "source": [
    "a.d_dt(a.get_state(), 0)"
   ]
  },
  {
   "cell_type": "code",
   "execution_count": 26,
   "metadata": {
    "collapsed": false
   },
   "outputs": [
    {
     "name": "stdout",
     "output_type": "stream",
     "text": [
      "Excess work done on this call (perhaps wrong Dfun type).\n",
      "Run with full_output = 1 to get quantitative information.\n",
      " "
     ]
    }
   ],
   "source": [
    "%%prun\n",
    "odeint(a.d_dt, a.get_state(), range(10))"
   ]
  },
  {
   "cell_type": "code",
   "execution_count": 27,
   "metadata": {
    "collapsed": false
   },
   "outputs": [
    {
     "name": "stdout",
     "output_type": "stream",
     "text": [
      "Excess work done on this call (perhaps wrong Dfun type).\n",
      "Run with full_output = 1 to get quantitative information.\n"
     ]
    }
   ],
   "source": [
    "import pstats, cProfile\n",
    "cProfile.runctx('odeint(a.d_dt, a.get_state(), range(10))', \n",
    "                globals(), locals(), 'tests/sandprofile')\n",
    "\n"
   ]
  }
 ],
 "metadata": {
  "kernelspec": {
   "display_name": "Python 2",
   "language": "python",
   "name": "python2"
  },
  "language_info": {
   "codemirror_mode": {
    "name": "ipython",
    "version": 2
   },
   "file_extension": ".py",
   "mimetype": "text/x-python",
   "name": "python",
   "nbconvert_exporter": "python",
   "pygments_lexer": "ipython2",
   "version": "2.7.10"
  }
 },
 "nbformat": 4,
 "nbformat_minor": 0
}
