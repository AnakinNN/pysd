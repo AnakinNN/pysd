{
 "cells": [
  {
   "cell_type": "markdown",
   "metadata": {},
   "source": [
    "# Sandbox\n",
    "For playing around during development."
   ]
  },
  {
   "cell_type": "code",
   "execution_count": 1,
   "metadata": {
    "collapsed": false
   },
   "outputs": [
    {
     "name": "stdout",
     "output_type": "stream",
     "text": [
      "Populating the interactive namespace from numpy and matplotlib\n"
     ]
    },
    {
     "name": "stderr",
     "output_type": "stream",
     "text": [
      "/Users/houghton/anaconda/lib/python2.7/site-packages/pandas/computation/__init__.py:19: UserWarning: The installed version of numexpr 2.4.4 is not supported in pandas and will be not be used\n",
      "\n",
      "  UserWarning)\n"
     ]
    }
   ],
   "source": [
    "%pylab inline\n",
    "#import pysd\n",
    "#print pysd.__version__\n",
    "#print pysd.__file__\n",
    "#import pandas as pd\n",
    "#import os\n",
    "import xarray as xr"
   ]
  },
  {
   "cell_type": "code",
   "execution_count": 2,
   "metadata": {
    "collapsed": false
   },
   "outputs": [
    {
     "data": {
      "text/plain": [
       "<xarray.DataArray (_delay: 4)>\n",
       "array([0, 0, 0, 0])\n",
       "Coordinates:\n",
       "  * _delay   (_delay) int64 0 1 2 3"
      ]
     },
     "execution_count": 2,
     "metadata": {},
     "output_type": "execute_result"
    }
   ],
   "source": [
    "order = 4\n",
    "a = xr.DataArray(data=[0]*order,\n",
    "                 coords={'_delay': range(order)})\n",
    "a"
   ]
  },
  {
   "cell_type": "code",
   "execution_count": 8,
   "metadata": {
    "collapsed": false
   },
   "outputs": [
    {
     "data": {
      "text/plain": [
       "<xarray.DataArray (_delay: 4)>\n",
       "array([ 1.,  0.,  0.,  0.])\n",
       "Coordinates:\n",
       "  * _delay   (_delay) int64 0 1 2 3"
      ]
     },
     "execution_count": 8,
     "metadata": {},
     "output_type": "execute_result"
    }
   ],
   "source": [
    "# adding a delay to a single variable is straightforward\n",
    "delay = 8\n",
    "inval = 1\n",
    "\n",
    "order = 4\n",
    "a = xr.DataArray(data=[0]*order,\n",
    "                 coords={'_delay': range(order)})\n",
    "\n",
    "ddt = (a/(delay/order)).shift(**{'_delay': 1}).fillna(inval) - (a/(delay/order))\n",
    "ddt"
   ]
  },
  {
   "cell_type": "code",
   "execution_count": 18,
   "metadata": {
    "collapsed": false
   },
   "outputs": [
    {
     "name": "stdout",
     "output_type": "stream",
     "text": [
      "<xarray.DataArray (Dim1: 3)>\n",
      "array([1, 2, 3])\n",
      "Coordinates:\n",
      "  * Dim1     (Dim1) |S1 'A' 'B' 'C'\n",
      "<xarray.DataArray (Dim1: 3, _delay: 4)>\n",
      "array([[0, 0, 0, 0],\n",
      "       [0, 0, 0, 0],\n",
      "       [0, 0, 0, 0]])\n",
      "Coordinates:\n",
      "  * Dim1     (Dim1) |S1 'A' 'B' 'C'\n",
      "  * _delay   (_delay) int64 0 1 2 3\n"
     ]
    },
    {
     "data": {
      "text/plain": [
       "<xarray.DataArray (Dim1: 3, _delay: 4)>\n",
       "array([[ 1.,  0.,  0.,  0.],\n",
       "       [ 2.,  0.,  0.,  0.],\n",
       "       [ 3.,  0.,  0.,  0.]])\n",
       "Coordinates:\n",
       "  * Dim1     (Dim1) |S1 'A' 'B' 'C'\n",
       "  * _delay   (_delay) int64 0 1 2 3"
      ]
     },
     "execution_count": 18,
     "metadata": {},
     "output_type": "execute_result"
    }
   ],
   "source": [
    "inval = xr.DataArray(data=[1,2,3], coords={'Dim1':['A','B','C']})\n",
    "print inval\n",
    "\n",
    "order = 4\n",
    "a = xr.DataArray(data=np.tile(0, [len(inval), order]),\n",
    "                 coords={'Dim1':['A','B','C'], '_delay': range(order)})\n",
    "print a\n",
    "\n",
    "delay = 8\n",
    "ddt = (a/(delay/order)).shift(**{'_delay': 1}).fillna(inval) - (a/(delay/order))\n",
    "ddt"
   ]
  },
  {
   "cell_type": "code",
   "execution_count": 20,
   "metadata": {
    "collapsed": false,
    "scrolled": true
   },
   "outputs": [
    {
     "name": "stdout",
     "output_type": "stream",
     "text": [
      "<xarray.DataArray (Dim1: 3)>\n",
      "array([1, 2, 3])\n",
      "Coordinates:\n",
      "  * Dim1     (Dim1) |S1 'A' 'B' 'C'\n",
      "<xarray.DataArray (Dim1: 3, _delay: 4)>\n",
      "array([[0, 0, 0, 0],\n",
      "       [0, 0, 0, 0],\n",
      "       [0, 0, 0, 0]])\n",
      "Coordinates:\n",
      "  * Dim1     (Dim1) |S1 'A' 'B' 'C'\n",
      "  * _delay   (_delay) int64 0 1 2 3\n"
     ]
    },
    {
     "data": {
      "text/plain": [
       "<xarray.DataArray (Dim1: 3, _delay: 4)>\n",
       "array([[ 0.5,  0. ,  0. ,  0. ],\n",
       "       [ 1. ,  0. ,  0. ,  0. ],\n",
       "       [ 1.5,  0. ,  0. ,  0. ]])\n",
       "Coordinates:\n",
       "  * Dim1     (Dim1) |S1 'A' 'B' 'C'\n",
       "  * _delay   (_delay) int64 0 1 2 3"
      ]
     },
     "execution_count": 20,
     "metadata": {},
     "output_type": "execute_result"
    }
   ],
   "source": [
    "delay = 8\n",
    "inval = xr.DataArray(data=[1,2,3], coords={'Dim1':['A','B','C']})\n",
    "print inval\n",
    "\n",
    "order = 4\n",
    "a = xr.DataArray(data=np.tile(0, [len(inval), order]),\n",
    "                 coords={'Dim1':['A','B','C'], '_delay': range(order)})\n",
    "print a\n",
    "\n",
    "gap = a.shift(**{'_delay': 1}).fillna(inval) - a \n",
    "ddt = gap /(delay/order)\n",
    "ddt"
   ]
  },
  {
   "cell_type": "code",
   "execution_count": 21,
   "metadata": {
    "collapsed": false
   },
   "outputs": [
    {
     "data": {
      "text/plain": [
       "<xarray.DataArray (Dim1: 3, _delay: 4)>\n",
       "array([[ 0.5,  0. ,  0. ,  0. ],\n",
       "       [ 1. ,  0. ,  0. ,  0. ],\n",
       "       [ 1.5,  0. ,  0. ,  0. ]])\n",
       "Coordinates:\n",
       "  * Dim1     (Dim1) |S1 'A' 'B' 'C'\n",
       "  * _delay   (_delay) int64 0 1 2 3"
      ]
     },
     "execution_count": 21,
     "metadata": {},
     "output_type": "execute_result"
    }
   ],
   "source": [
    "(a.shift(**{'_delay': 1}).fillna(inval) - a )/(delay/order)"
   ]
  },
  {
   "cell_type": "code",
   "execution_count": 158,
   "metadata": {
    "collapsed": false
   },
   "outputs": [
    {
     "name": "stdout",
     "output_type": "stream",
     "text": [
      "<xarray.DataArray (_delay: 4)>\n",
      "array([ 1.,  0.,  0.,  0.])\n",
      "Coordinates:\n",
      "  * _delay   (_delay) int64 0 1 2 3\n",
      "<xarray.DataArray (_delay: 4)>\n",
      "array([ 1.5,  0.5,  0. ,  0. ])\n",
      "Coordinates:\n",
      "  * _delay   (_delay) int64 0 1 2 3\n",
      "<xarray.DataArray (_delay: 4)>\n",
      "array([ 1.75,  1.  ,  0.25,  0.  ])\n",
      "Coordinates:\n",
      "  * _delay   (_delay) int64 0 1 2 3\n",
      "<xarray.DataArray (_delay: 4)>\n",
      "array([ 1.875,  1.375,  0.625,  0.125])\n",
      "Coordinates:\n",
      "  * _delay   (_delay) int64 0 1 2 3\n",
      "<xarray.DataArray (_delay: 4)>\n",
      "array([ 1.9375,  1.625 ,  1.    ,  0.375 ])\n",
      "Coordinates:\n",
      "  * _delay   (_delay) int64 0 1 2 3\n"
     ]
    }
   ],
   "source": [
    "for i in range(5):\n",
    "    outflows = a/(delay/order)\n",
    "    inflows = outflows.shift(**{'_delay': 1})\n",
    "    inflows.loc[{'_delay': 0}] = inval\n",
    "    outval = outflows.loc[{'_delay': order-1}]\n",
    "    a = a + inflows - outflows\n",
    "    print a"
   ]
  },
  {
   "cell_type": "code",
   "execution_count": 6,
   "metadata": {
    "collapsed": false
   },
   "outputs": [
    {
     "data": {
      "text/plain": [
       "<xarray.DataArray (_delay: 4)>\n",
       "array([ 1.,  0.,  0.,  0.])\n",
       "Coordinates:\n",
       "  * _delay   (_delay) int64 0 1 2 3"
      ]
     },
     "execution_count": 6,
     "metadata": {},
     "output_type": "execute_result"
    }
   ],
   "source": [
    "(a/(delay/order)).shift(**{'_delay': 1}).fillna(inval) - (a/(delay/order))"
   ]
  },
  {
   "cell_type": "code",
   "execution_count": 164,
   "metadata": {
    "collapsed": false
   },
   "outputs": [
    {
     "ename": "TypeError",
     "evalue": "Order of delay must be an integer, instead recieved 5.3",
     "traceback": [
      "\u001b[0;31m---------------------------------------------------------------------------\u001b[0m",
      "\u001b[0;31mTypeError\u001b[0m                                 Traceback (most recent call last)",
      "\u001b[0;32m<ipython-input-164-0b42ccb41eb4>\u001b[0m in \u001b[0;36m<module>\u001b[0;34m()\u001b[0m\n\u001b[1;32m      3\u001b[0m     \u001b[0mrange\u001b[0m\u001b[0;34m(\u001b[0m\u001b[0morder\u001b[0m\u001b[0;34m)\u001b[0m\u001b[0;34m\u001b[0m\u001b[0m\n\u001b[1;32m      4\u001b[0m \u001b[0;32mexcept\u001b[0m \u001b[0mTypeError\u001b[0m \u001b[0;32mor\u001b[0m \u001b[0mValueError\u001b[0m\u001b[0;34m:\u001b[0m\u001b[0;34m\u001b[0m\u001b[0m\n\u001b[0;32m----> 5\u001b[0;31m     \u001b[0;32mraise\u001b[0m \u001b[0mTypeError\u001b[0m\u001b[0;34m(\u001b[0m\u001b[0;34m'Order of delay must be an integer, instead recieved %s'\u001b[0m \u001b[0;34m%\u001b[0m \u001b[0mstr\u001b[0m\u001b[0;34m(\u001b[0m\u001b[0morder\u001b[0m\u001b[0;34m)\u001b[0m\u001b[0;34m)\u001b[0m\u001b[0;34m\u001b[0m\u001b[0m\n\u001b[0m",
      "\u001b[0;31mTypeError\u001b[0m: Order of delay must be an integer, instead recieved 5.3"
     ],
     "output_type": "error"
    }
   ],
   "source": [
    "order = 5.3\n",
    "try:\n",
    "    range(order)\n",
    "except TypeError or ValueError:\n",
    "    raise TypeError('Order of delay must be an integer, instead recieved %s' % str(order))"
   ]
  },
  {
   "cell_type": "code",
   "execution_count": null,
   "metadata": {
    "collapsed": true
   },
   "outputs": [],
   "source": [
    ""
   ]
  }
 ],
 "metadata": {
  "kernelspec": {
   "display_name": "Python 2",
   "language": "python",
   "name": "python2"
  },
  "language_info": {
   "codemirror_mode": {
    "name": "ipython",
    "version": 2.0
   },
   "file_extension": ".py",
   "mimetype": "text/x-python",
   "name": "python",
   "nbconvert_exporter": "python",
   "pygments_lexer": "ipython2",
   "version": "2.7.12"
  }
 },
 "nbformat": 4,
 "nbformat_minor": 0
}