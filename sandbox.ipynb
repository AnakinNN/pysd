{
 "cells": [
  {
   "cell_type": "markdown",
   "metadata": {},
   "source": [
    "#Sandbox\n",
    "For playing around during development.\n",
    "\n",
    "Todo:\n",
    "\n",
    "- check that lookup table data is bound to the instance, not to the class"
   ]
  },
  {
   "cell_type": "code",
   "execution_count": 134,
   "metadata": {
    "collapsed": true
   },
   "outputs": [],
   "source": [
    "import glob\n",
    "import os.path\n",
    "import traceback\n",
    "from parsimonious.exceptions import ParseError, IncompleteParseError\n",
    "import pandas as pd"
   ]
  },
  {
   "cell_type": "code",
   "execution_count": 3,
   "metadata": {
    "collapsed": false
   },
   "outputs": [
    {
     "name": "stdout",
     "output_type": "stream",
     "text": [
      "Populating the interactive namespace from numpy and matplotlib\n",
      "0.3.2\n",
      "pysd/__init__.pyc\n"
     ]
    }
   ],
   "source": [
    "%pylab inline\n",
    "import pysd\n",
    "print pysd.__version__\n",
    "print pysd.__file__"
   ]
  },
  {
   "cell_type": "code",
   "execution_count": 10,
   "metadata": {
    "collapsed": false
   },
   "outputs": [],
   "source": [
    "test_dir = '../test-models/'\n",
    "testfiles = glob.glob(test_dir+'*/*/*.mdl')"
   ]
  },
  {
   "cell_type": "code",
   "execution_count": null,
   "metadata": {
    "collapsed": true
   },
   "outputs": [],
   "source": []
  },
  {
   "cell_type": "code",
   "execution_count": 192,
   "metadata": {
    "collapsed": false,
    "scrolled": true
   },
   "outputs": [
    {
     "name": "stdout",
     "output_type": "stream",
     "text": [
      ". . E .Illegal input detected (internal error).\n",
      "Run with full_output = 1 to get quantitative information.\n",
      " FC FP FP . FP FP . FC . FP .Illegal input detected (internal error).\n",
      "Run with full_output = 1 to get quantitative information.\n",
      " FC FC FP . . . \n",
      "------------------------------------------------------------\n",
      "Failure loading canonical output for: ../test-models/samples/Workforce/workforce.mdl \n",
      "------------------------------------------------------------\n",
      "Model output does not match canon for: ../test-models/tests/builtin_max/builtin_max.mdl \n",
      "\n",
      "output   NaN\n",
      "dtype: float64\n",
      "------------------------------------------------------------\n",
      "Parse Error in: ../test-models/tests/builtin_min/builtin_min.mdl \n",
      "At line: 3, column10 \n",
      "On rule: Conditional \n",
      "<Sequence Conditional = \"<=\" / \"<\" / \">=\" / \">\" / \"=\" _ Term at 0x4399474000>\n",
      "\n",
      "\tmin(Time, 5)\n",
      "         ^\n",
      "\n",
      "------------------------------------------------------------\n",
      "Parse Error in: ../test-models/tests/delays/test_delays.mdl \n",
      "At line: 3, column22 \n",
      "On rule: Conditional \n",
      "<Sequence Conditional = \"<=\" / \"<\" / \">=\" / \">\" / \"=\" _ Term at 0x4398665392>\n",
      "\n",
      "\tdelay1(Inflow Delay1, delay)\n",
      "                     ^\n",
      "\n",
      "------------------------------------------------------------\n",
      "Parse Error in: ../test-models/tests/exponentiation/exponentiation.mdl \n",
      "At line: 13, column32 \n",
      "On rule: Conditional \n",
      "<Sequence Conditional = \"<=\" / \"<\" / \">=\" / \">\" / \"=\" _ Term at 0x4405976432>\n",
      "\n",
      "\tif then else(associativity = 4, 1, 0)\n",
      "                               ^\n",
      "\n",
      "------------------------------------------------------------\n",
      "Parse Error in: ../test-models/tests/if_stmt/if_stmt.mdl \n",
      "At line: 2, column33 \n",
      "On rule: Conditional \n",
      "<Sequence Conditional = \"<=\" / \"<\" / \">=\" / \">\" / \"=\" _ Term at 0x4406760864>\n",
      "\n",
      "output = if then else ( Time > 5, 1, 0)\n",
      "                                ^\n",
      "\n",
      "------------------------------------------------------------\n",
      "Model output does not match canon for: ../test-models/tests/input_functions/test_inputs.mdl \n",
      "\n",
      "inputa               6.000000\n",
      "stocka              41.906197\n",
      "test_pulse           0.000000\n",
      "test_pulse_train     0.000000\n",
      "test_ramp            6.000000\n",
      "test_step            0.000000\n",
      "dtype: float64\n",
      "------------------------------------------------------------\n",
      "Parse Error in: ../test-models/tests/logicals/test_logicals.mdl \n",
      "At line: 3, column26 \n",
      "On rule: AddArg \n",
      "<Sequence AddArg = \",\"* _ Condition at 0x4399525968>\n",
      "\n",
      "\tIF THEN ELSE(true input :AND: false input, 1 , 0)\n",
      "                         ^\n",
      "\n",
      "------------------------------------------------------------\n",
      "Model output does not match canon for: ../test-models/tests/number_handling/test_number_handling.mdl \n",
      "\n",
      "denominator       NaN\n",
      "equality          NaN\n",
      "numerator         NaN\n",
      "quotient          NaN\n",
      "quotient_target   NaN\n",
      "dtype: float64\n",
      "------------------------------------------------------------\n",
      "Model output does not match canon for: ../test-models/tests/rounding/test_rounding.mdl \n",
      "\n",
      "flowa           0\n",
      "stocka          0\n",
      "test_integer    0\n",
      "test_modulo     3\n",
      "dtype: float64\n",
      "------------------------------------------------------------\n",
      "Parse Error in: ../test-models/tests/smooth/test_smooth.mdl \n",
      "At line: 18, column15 \n",
      "On rule: Conditional \n",
      "<Sequence Conditional = \"<=\" / \"<\" / \">=\" / \">\" / \"=\" _ Term at 0x4406012976>\n",
      "\n",
      "\tSMOOTHI(Input, Adjustment Time, 0 )\n",
      "              ^\n",
      "\n",
      "\n"
     ]
    }
   ],
   "source": [
    "err_str = \"\\n\"\n",
    "threshold = 1\n",
    "\n",
    "for modelfile in testfiles:\n",
    "    directory = os.path.dirname(modelfile)\n",
    "    try:\n",
    "        model = pysd.read_vensim(modelfile)\n",
    "        \n",
    "        canon = pd.read_csv(directory+'/output.csv', index_col='Time')\n",
    "        canon.columns = [pysd.builder.make_python_identifier(x) for x in canon.columns.values]\n",
    "        \n",
    "        output = model.run(return_columns=list(canon.columns.values), \n",
    "                           return_timestamps=canon.index.values)\n",
    "        \n",
    "        assert (canon-output).max().max() < 1\n",
    "        \n",
    "        print '.',\n",
    "        \n",
    "    except ParseError as e:\n",
    "        print 'FP',\n",
    "        \n",
    "        err_str += '-'*60 + '\\n'\n",
    "        err_str += 'Parse Error in: %s \\n'%modelfile\n",
    "        err_str += 'At line: %i, column%i \\n'%(e.line(), e.column())\n",
    "        err_str += 'On rule: %s \\n'%e.expr.name\n",
    "        err_str += e.expr.__repr__() + '\\n\\n'\n",
    "        err_str += e.text.splitlines()[e.line()-1] + '\\n' #line numbers are 1 based, most likely\n",
    "        err_str += '^'.rjust(e.column()) + '\\n\\n'\n",
    "        \n",
    "    except IOError as e:\n",
    "        print 'E',\n",
    "        \n",
    "        err_str += '-'*60 + '\\n'\n",
    "        err_str += 'Failure loading canonical output for: %s \\n'%modelfile \n",
    "        \n",
    "    except AssertionError as e:\n",
    "        print 'FC',\n",
    "        \n",
    "        err_str += '-'*60 + '\\n'\n",
    "        err_str += 'Model output does not match canon for: %s \\n\\n'%modelfile\n",
    "        err_str += str((canon-output).max())\n",
    "        err_str += '\\n'\n",
    "\n",
    "        \n",
    "\n",
    "print err_str"
   ]
  },
  {
   "cell_type": "code",
   "execution_count": 187,
   "metadata": {
    "collapsed": false
   },
   "outputs": [
    {
     "data": {
      "text/plain": [
       "inflowa        0.000000e+00\n",
       "stocka         3.552714e-15\n",
       "test_arccos    5.307180e-06\n",
       "test_arcsin    4.692820e-06\n",
       "test_arctan    4.692820e-06\n",
       "test_cos       4.966004e-07\n",
       "test_sin       5.145580e-07\n",
       "test_tan       4.586984e-05\n",
       "dtype: float64"
      ]
     },
     "execution_count": 187,
     "metadata": {},
     "output_type": "execute_result"
    }
   ],
   "source": [
    "(canon-output)."
   ]
  },
  {
   "cell_type": "code",
   "execution_count": 176,
   "metadata": {
    "collapsed": false
   },
   "outputs": [
    {
     "name": "stdout",
     "output_type": "stream",
     "text": [
      "{}\n"
     ]
    }
   ],
   "source": [
    "print model.components.state"
   ]
  },
  {
   "cell_type": "code",
   "execution_count": 161,
   "metadata": {
    "collapsed": false
   },
   "outputs": [
    {
     "data": {
      "text/html": [
       "<div>\n",
       "<table border=\"1\" class=\"dataframe\">\n",
       "  <thead>\n",
       "    <tr style=\"text-align: right;\">\n",
       "      <th></th>\n",
       "      <th>inflowa</th>\n",
       "      <th>stocka</th>\n",
       "      <th>test_arccos</th>\n",
       "      <th>test_arcsin</th>\n",
       "      <th>test_arctan</th>\n",
       "      <th>test_cos</th>\n",
       "      <th>test_sin</th>\n",
       "      <th>test_tan</th>\n",
       "    </tr>\n",
       "  </thead>\n",
       "  <tbody>\n",
       "    <tr>\n",
       "      <th>0.000</th>\n",
       "      <td>1</td>\n",
       "      <td>-10.000</td>\n",
       "      <td>2.566371</td>\n",
       "      <td>0.575222</td>\n",
       "      <td>-0.575222</td>\n",
       "      <td>-0.839072</td>\n",
       "      <td>0.544021</td>\n",
       "      <td>-0.648361</td>\n",
       "    </tr>\n",
       "    <tr>\n",
       "      <th>0.125</th>\n",
       "      <td>1</td>\n",
       "      <td>-9.875</td>\n",
       "      <td>2.691371</td>\n",
       "      <td>0.450222</td>\n",
       "      <td>-0.450222</td>\n",
       "      <td>-0.900351</td>\n",
       "      <td>0.435165</td>\n",
       "      <td>-0.483329</td>\n",
       "    </tr>\n",
       "    <tr>\n",
       "      <th>0.250</th>\n",
       "      <td>1</td>\n",
       "      <td>-9.750</td>\n",
       "      <td>2.816371</td>\n",
       "      <td>0.325222</td>\n",
       "      <td>-0.325222</td>\n",
       "      <td>-0.947580</td>\n",
       "      <td>0.319519</td>\n",
       "      <td>-0.337195</td>\n",
       "    </tr>\n",
       "    <tr>\n",
       "      <th>0.375</th>\n",
       "      <td>1</td>\n",
       "      <td>-9.625</td>\n",
       "      <td>2.941371</td>\n",
       "      <td>0.200222</td>\n",
       "      <td>-0.200222</td>\n",
       "      <td>-0.980022</td>\n",
       "      <td>0.198887</td>\n",
       "      <td>-0.202941</td>\n",
       "    </tr>\n",
       "    <tr>\n",
       "      <th>0.500</th>\n",
       "      <td>1</td>\n",
       "      <td>-9.500</td>\n",
       "      <td>3.066371</td>\n",
       "      <td>0.075222</td>\n",
       "      <td>-0.075222</td>\n",
       "      <td>-0.997172</td>\n",
       "      <td>0.075151</td>\n",
       "      <td>-0.075364</td>\n",
       "    </tr>\n",
       "  </tbody>\n",
       "</table>\n",
       "</div>"
      ],
      "text/plain": [
       "       inflowa  stocka  test_arccos  test_arcsin  test_arctan  test_cos  \\\n",
       "0.000        1 -10.000     2.566371     0.575222    -0.575222 -0.839072   \n",
       "0.125        1  -9.875     2.691371     0.450222    -0.450222 -0.900351   \n",
       "0.250        1  -9.750     2.816371     0.325222    -0.325222 -0.947580   \n",
       "0.375        1  -9.625     2.941371     0.200222    -0.200222 -0.980022   \n",
       "0.500        1  -9.500     3.066371     0.075222    -0.075222 -0.997172   \n",
       "\n",
       "       test_sin  test_tan  \n",
       "0.000  0.544021 -0.648361  \n",
       "0.125  0.435165 -0.483329  \n",
       "0.250  0.319519 -0.337195  \n",
       "0.375  0.198887 -0.202941  \n",
       "0.500  0.075151 -0.075364  "
      ]
     },
     "execution_count": 161,
     "metadata": {},
     "output_type": "execute_result"
    }
   ],
   "source": [
    "output.head()"
   ]
  },
  {
   "cell_type": "code",
   "execution_count": 150,
   "metadata": {
    "collapsed": false
   },
   "outputs": [
    {
     "data": {
      "text/plain": [
       "['Time',\n",
       " 'Contact Infectivity',\n",
       " 'Duration',\n",
       " 'Infectious',\n",
       " 'Recovered',\n",
       " 'Recovering',\n",
       " 'Succumbing',\n",
       " 'Susceptible',\n",
       " 'Total Population']"
      ]
     },
     "execution_count": 150,
     "metadata": {},
     "output_type": "execute_result"
    }
   ],
   "source": [
    "canon = pd.read_csv(directory+'/output.csv')\n",
    "list(canon.columns.values)"
   ]
  },
  {
   "cell_type": "code",
   "execution_count": 145,
   "metadata": {
    "collapsed": false
   },
   "outputs": [
    {
     "data": {
      "text/plain": [
       "array(['time', 'contact_infectivity', 'duration', 'infectious',\n",
       "       'recovered', 'recovering', 'saveper', 'succumbing', 'susceptible',\n",
       "       'total_population'], dtype=object)"
      ]
     },
     "execution_count": 145,
     "metadata": {},
     "output_type": "execute_result"
    }
   ],
   "source": [
    "canon.columns.values"
   ]
  },
  {
   "cell_type": "code",
   "execution_count": 146,
   "metadata": {
    "collapsed": false
   },
   "outputs": [],
   "source": [
    "m = e.expr.members[-1]"
   ]
  },
  {
   "cell_type": "code",
   "execution_count": 133,
   "metadata": {
    "collapsed": false
   },
   "outputs": [
    {
     "data": {
      "text/plain": [
       "[<Sequence Factor = ExpBase _ Multiplicative* at 0x4399571024>,\n",
       " <ZeroOrMore _ = spacechar* at 0x4401248128>,\n",
       " <ZeroOrMore Additive* at 0x4399573904>]"
      ]
     },
     "execution_count": 133,
     "metadata": {},
     "output_type": "execute_result"
    }
   ],
   "source": [
    "m.members"
   ]
  },
  {
   "cell_type": "code",
   "execution_count": 127,
   "metadata": {
    "collapsed": false
   },
   "outputs": [
    {
     "data": {
      "text/plain": [
       "<Sequence Conditional = \"<=\" / \"<\" / \">=\" / \">\" / \"=\" _ Term at 0x4399573344>"
      ]
     },
     "execution_count": 127,
     "metadata": {},
     "output_type": "execute_result"
    }
   ],
   "source": [
    "e.expr"
   ]
  },
  {
   "cell_type": "code",
   "execution_count": 95,
   "metadata": {
    "collapsed": false
   },
   "outputs": [
    {
     "name": "stdout",
     "output_type": "stream",
     "text": [
      "{UTF-8}\n",
      "output=\n",
      "\tmin(Time, 5)\n",
      "\t~\t\n",
      "\t~\t\t|\n",
      "\n",
      "********************************************************\n",
      "\t.Control\n",
      "********************************************************~\n",
      "\t\tSimulation Control Parameters\n",
      "\t|\n",
      "\n",
      "FINAL TIME  = 10\n",
      "\t~\tMonth\n",
      "\t~\tThe final time for the simulation.\n",
      "\t|\n",
      "\n",
      "INITIAL TIME  = 0\n",
      "\t~\tMonth\n",
      "\t~\tThe initial time for the simulation.\n",
      "\t|\n",
      "\n",
      "SAVEPER  = \n",
      "        TIME STEP \n",
      "\t~\tMonth [0,?]\n",
      "\t~\tThe frequency with which output is stored.\n",
      "\t|\n",
      "\n",
      "TIME STEP  = 1\n",
      "\t~\tMonth [0,?]\n",
      "\t~\tThe time step for the simulation.\n",
      "\t|\n",
      "\n",
      "\\\\\\---/// Sketch information - do not modify anything except names\n",
      "V300  Do not put anything below this section - it will be ignored\n",
      "*View 1\n",
      "$192-192-192,0,Times New Roman|12||0-0-0|0-0-0|0-0-255|-1--1--1|-1--1--1|192,192,100,0\n",
      "10,1,output,218,156,72,24,8,131,0,0,0,0,0,0\n",
      "10,2,Time,218,216,53,19,8,2,0,3,-1,0,0,0,128-128-128,0-0-0,|0||128-128-128\n",
      "1,3,2,1,0,0,0,0,0,64,0,-1--1--1,,1|(218,195)|\n",
      "///---\\\\\\\n",
      ":L<%^E!@\n",
      "9:Current\n",
      "15:0,0,0,0,0,0\n",
      "19:100,0\n",
      "27:2,\n",
      "34:0,\n",
      "5:output\n",
      "35:Date\n",
      "36:YYYY-MM-DD\n",
      "37:2000\n",
      "38:1\n",
      "39:1\n",
      "40:2\n",
      "41:0\n",
      "42:1\n",
      "24:0\n",
      "25:0\n",
      "26:0\n",
      "\n"
     ]
    }
   ],
   "source": [
    "print e.text"
   ]
  },
  {
   "cell_type": "code",
   "execution_count": 89,
   "metadata": {
    "collapsed": false
   },
   "outputs": [
    {
     "data": {
      "text/plain": [
       "[u'{UTF-8}',\n",
       " u'Smooth3 output=',\n",
       " u'\\tSMOOTH3(Input,Adjustment Time)',\n",
       " u'\\t~\\t',\n",
       " u'\\t~\\t\\t|',\n",
       " u'',\n",
       " u'Smooth N output=',\n",
       " u'\\tSMOOTH N(Input, Adjustment Time , 0 , 5 )',\n",
       " u'\\t~\\t',\n",
       " u'\\t~\\t\\t|',\n",
       " u'',\n",
       " u'Smooth output=',\n",
       " u'\\tSMOOTH(Input, Adjustment Time )',\n",
       " u'\\t~\\t',\n",
       " u'\\t~\\t\\t|',\n",
       " u'',\n",
       " u'SmoothI output=',\n",
       " u'\\tSMOOTHI(Input, Adjustment Time, 0 )',\n",
       " u'\\t~\\t',\n",
       " u'\\t~\\t\\t|',\n",
       " u'',\n",
       " u'Adjustment Time=',\n",
       " u'\\t2',\n",
       " u'\\t~\\t',\n",
       " u'\\t~\\t\\t|',\n",
       " u'',\n",
       " u'Smooth3I output=',\n",
       " u'\\tSMOOTH3I(Input, Adjustment Time, 0 )',\n",
       " u'\\t~\\t',\n",
       " u'\\t~\\t\\t|',\n",
       " u'',\n",
       " u'Input=',\n",
       " u'\\tSTEP(5 , 5)',\n",
       " u'\\t~\\t',\n",
       " u'\\t~\\t\\t|',\n",
       " u'',\n",
       " u'********************************************************',\n",
       " u'\\t.Control',\n",
       " u'********************************************************~',\n",
       " u'\\t\\tSimulation Control Parameters',\n",
       " u'\\t|',\n",
       " u'',\n",
       " u'FINAL TIME  = 20',\n",
       " u'\\t~\\tMonth',\n",
       " u'\\t~\\tThe final time for the simulation.',\n",
       " u'\\t|',\n",
       " u'',\n",
       " u'INITIAL TIME  = 0',\n",
       " u'\\t~\\tMonth',\n",
       " u'\\t~\\tThe initial time for the simulation.',\n",
       " u'\\t|',\n",
       " u'',\n",
       " u'SAVEPER  = ',\n",
       " u'        TIME STEP ',\n",
       " u'\\t~\\tMonth [0,?]',\n",
       " u'\\t~\\tThe frequency with which output is stored.',\n",
       " u'\\t|',\n",
       " u'',\n",
       " u'TIME STEP  = 0.25',\n",
       " u'\\t~\\tMonth [0,?]',\n",
       " u'\\t~\\tThe time step for the simulation.',\n",
       " u'\\t|',\n",
       " u'',\n",
       " u'\\\\\\\\\\\\---/// Sketch information - do not modify anything except names',\n",
       " u'V300  Do not put anything below this section - it will be ignored',\n",
       " u'*View 1',\n",
       " u'$192-192-192,0,Times New Roman|12||0-0-0|0-0-0|0-0-255|-1--1--1|-1--1--1|72,72,100,0',\n",
       " u'10,1,Input,345,179,15,8,8,3,0,0,0,0,0,0',\n",
       " u'10,2,Smooth3I output,303,252,43,8,8,3,0,0,0,0,0,0',\n",
       " u'1,3,1,2,0,0,0,0,0,64,0,-1--1--1,,1|(327,209)|',\n",
       " u'10,12,Adjustment Time,498,181,44,8,8,3,0,0,0,0,0,0',\n",
       " u'1,13,12,2,1,0,0,0,0,64,0,-1--1--1,,1|(403,223)|',\n",
       " u'10,40,SmoothI output,520,256,40,8,8,3,0,0,0,0,0,0',\n",
       " u'1,41,1,40,0,0,0,0,0,64,0,-1--1--1,,1|(424,213)|',\n",
       " u'1,42,12,40,0,0,0,0,0,64,0,-1--1--1,,1|(506,211)|',\n",
       " u'10,43,Smooth output,286,112,38,8,8,3,0,0,0,0,0,0',\n",
       " u'10,44,Smooth3 output,555,120,41,8,8,3,0,0,0,0,0,0',\n",
       " u'1,45,1,43,0,0,0,0,0,64,0,-1--1--1,,1|(320,150)|',\n",
       " u'1,46,12,43,0,0,0,0,0,64,0,-1--1--1,,1|(398,148)|',\n",
       " u'1,47,1,44,0,0,0,0,0,64,0,-1--1--1,,1|(436,153)|',\n",
       " u'1,48,12,44,0,0,0,0,0,64,0,-1--1--1,,1|(521,155)|',\n",
       " u'10,49,Smooth N output,428,89,44,8,8,3,0,0,0,0,0,0',\n",
       " u'1,50,1,49,0,0,0,0,0,64,0,-1--1--1,,1|(381,139)|',\n",
       " u'1,51,12,49,0,0,0,0,0,64,0,-1--1--1,,1|(467,140)|',\n",
       " u'///---\\\\\\\\\\\\',\n",
       " u':L\\x7f<%^E!@',\n",
       " u'1:/Applications/Current.vdf',\n",
       " u'1:/Users/houghton/Google_Drive/Academic Projects/PYSD/pysd/tests/vensim/Current.vdf',\n",
       " u'1:Current.vdf',\n",
       " u'9:Current',\n",
       " u'22:$,Dollar,Dollars,$s',\n",
       " u'22:Hour,Hours',\n",
       " u'22:Month,Months',\n",
       " u'22:Person,People,Persons',\n",
       " u'22:Unit,Units',\n",
       " u'22:Week,Weeks',\n",
       " u'22:Year,Years',\n",
       " u'22:Day,Days',\n",
       " u'15:0,0,0,0,0,0',\n",
       " u'19:100,0',\n",
       " u'27:2,',\n",
       " u'34:0,',\n",
       " u'4:Time',\n",
       " u'5:Smooth N output',\n",
       " u'35:Date',\n",
       " u'36:YYYY-MM-DD',\n",
       " u'37:2000',\n",
       " u'38:1',\n",
       " u'39:1',\n",
       " u'40:2',\n",
       " u'41:0',\n",
       " u'42:0',\n",
       " u'24:0',\n",
       " u'25:100',\n",
       " u'26:100']"
      ]
     },
     "execution_count": 89,
     "metadata": {},
     "output_type": "execute_result"
    }
   ],
   "source": [
    "e.text.splitlines()"
   ]
  },
  {
   "cell_type": "code",
   "execution_count": 2,
   "metadata": {
    "collapsed": false
   },
   "outputs": [],
   "source": [
    "model = pysd.read_vensim('tests/vensim/Teacup.mdl')\n",
    "\n",
    "#model = pysd.read_xmile('tests/xmile/teacup.xmile')"
   ]
  },
  {
   "cell_type": "code",
   "execution_count": null,
   "metadata": {
    "collapsed": true
   },
   "outputs": [],
   "source": [
    "model.run()"
   ]
  },
  {
   "cell_type": "code",
   "execution_count": 4,
   "metadata": {
    "collapsed": true
   },
   "outputs": [],
   "source": [
    "import pandas as pd"
   ]
  },
  {
   "cell_type": "code",
   "execution_count": null,
   "metadata": {
    "collapsed": true
   },
   "outputs": [],
   "source": [
    "pd.read_excel()"
   ]
  },
  {
   "cell_type": "code",
   "execution_count": null,
   "metadata": {
    "collapsed": true
   },
   "outputs": [],
   "source": [
    "model.set_components({'room_temperature':pd.Series(np.linspace(20,80,30)})"
   ]
  },
  {
   "cell_type": "code",
   "execution_count": 11,
   "metadata": {
    "collapsed": false
   },
   "outputs": [
    {
     "data": {
      "text/html": [
       "<div>\n",
       "<table border=\"1\" class=\"dataframe\">\n",
       "  <thead>\n",
       "    <tr style=\"text-align: right;\">\n",
       "      <th></th>\n",
       "      <th>cuptemp</th>\n",
       "    </tr>\n",
       "  </thead>\n",
       "  <tbody>\n",
       "    <tr>\n",
       "      <th>0.00</th>\n",
       "      <td>170.000000</td>\n",
       "    </tr>\n",
       "    <tr>\n",
       "      <th>0.25</th>\n",
       "      <td>165.755830</td>\n",
       "    </tr>\n",
       "    <tr>\n",
       "      <th>0.50</th>\n",
       "      <td>161.688256</td>\n",
       "    </tr>\n",
       "    <tr>\n",
       "      <th>0.75</th>\n",
       "      <td>157.789930</td>\n",
       "    </tr>\n",
       "    <tr>\n",
       "      <th>1.00</th>\n",
       "      <td>154.053813</td>\n",
       "    </tr>\n",
       "  </tbody>\n",
       "</table>\n",
       "</div>"
      ],
      "text/plain": [
       "         cuptemp\n",
       "0.00  170.000000\n",
       "0.25  165.755830\n",
       "0.50  161.688256\n",
       "0.75  157.789930\n",
       "1.00  154.053813"
      ]
     },
     "execution_count": 11,
     "metadata": {},
     "output_type": "execute_result"
    }
   ],
   "source": [
    "result = model.run()\n",
    "result.head()"
   ]
  },
  {
   "cell_type": "code",
   "execution_count": 12,
   "metadata": {
    "collapsed": false
   },
   "outputs": [
    {
     "data": {
      "text/plain": [
       "<matplotlib.axes._subplots.AxesSubplot at 0x1129b5850>"
      ]
     },
     "execution_count": 12,
     "metadata": {},
     "output_type": "execute_result"
    },
    {
     "data": {
      "image/png": "[encoded data removed]",
      "text/plain": [
       "<matplotlib.figure.Figure at 0x11294c810>"
      ]
     },
     "metadata": {},
     "output_type": "display_data"
    }
   ],
   "source": [
    "result.plot()"
   ]
  },
  {
   "cell_type": "markdown",
   "metadata": {
    "collapsed": true
   },
   "source": [
    "## PySD Performance\n",
    "Lets plot the history of our speedup efforts:"
   ]
  },
  {
   "cell_type": "code",
   "execution_count": 13,
   "metadata": {
    "collapsed": false
   },
   "outputs": [
    {
     "data": {
      "image/png": "[encoded data removed]",
      "text/plain": [
       "<matplotlib.figure.Figure at 0x112a8f7d0>"
      ]
     },
     "metadata": {},
     "output_type": "display_data"
    }
   ],
   "source": [
    "import pandas as pd\n",
    "\n",
    "dictlist = []\n",
    "with open('tests/speedtest_results.json') as infile:\n",
    "    for line in infile:\n",
    "        dictlist.append(eval(line))\n",
    "    \n",
    "speedtests = pd.DataFrame(dictlist)\n",
    "speedtests['run teacup baseline'].plot(marker='o');"
   ]
  },
  {
   "cell_type": "code",
   "execution_count": null,
   "metadata": {
    "collapsed": true
   },
   "outputs": [],
   "source": []
  }
 ],
 "metadata": {
  "kernelspec": {
   "display_name": "Python 2",
   "language": "python",
   "name": "python2"
  },
  "language_info": {
   "codemirror_mode": {
    "name": "ipython",
    "version": 2
   },
   "file_extension": ".py",
   "mimetype": "text/x-python",
   "name": "python",
   "nbconvert_exporter": "python",
   "pygments_lexer": "ipython2",
   "version": "2.7.9"
  }
 },
 "nbformat": 4,
 "nbformat_minor": 0
}
