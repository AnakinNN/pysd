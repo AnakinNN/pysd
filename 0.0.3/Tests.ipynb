{
 "metadata": {
  "name": "",
  "signature": "sha256:cbed75fa936ed3890a86f2b0c371a8e15bdea139202616bbfc0f650ba30cfcc9"
 },
 "nbformat": 3,
 "nbformat_minor": 0,
 "worksheets": [
  {
   "cells": [
    {
     "cell_type": "markdown",
     "metadata": {},
     "source": [
      "# Test all of PySD\n",
      "\n",
      "We'll try to build up tests for all of the functionality in PySD, starting with the lowest level, and working our way to full functionality.\n",
      "\n",
      "We should write a lot more tests..."
     ]
    },
    {
     "cell_type": "code",
     "collapsed": false,
     "input": [
      "import SMILE2Py"
     ],
     "language": "python",
     "metadata": {},
     "outputs": [],
     "prompt_number": 1
    },
    {
     "cell_type": "code",
     "collapsed": false,
     "input": [
      "def test_clean():\n",
      "    print SMILE2Py.clean('Moses_Supposes * His / TOESES^are\\nRoSeS')\n",
      "    \n",
      "test_clean()"
     ],
     "language": "python",
     "metadata": {},
     "outputs": [
      {
       "output_type": "stream",
       "stream": "stdout",
       "text": [
        "moses_supposes*his/toeses^are_roses\n"
       ]
      }
     ],
     "prompt_number": 2
    },
    {
     "cell_type": "code",
     "collapsed": false,
     "input": [
      "def test_arithmetic():\n",
      "    \n",
      "    ##### test that operators work and have correct priority\n",
      "    code, _ = SMILE2Py.translate('1<2')\n",
      "    assert eval(code) == True\n",
      "    \n",
      "    code, _ = SMILE2Py.translate('1>2')\n",
      "    assert eval(code) == False\n",
      "    \n",
      "    code, _ = SMILE2Py.translate('1=2')\n",
      "    assert eval(code) == False\n",
      "    \n",
      "    code, _ = SMILE2Py.translate('1<=2')\n",
      "    assert eval(code) == True\n",
      "    \n",
      "    code, _ = SMILE2Py.translate('1>=2')\n",
      "    assert eval(code) == False\n",
      "    \n",
      "    #test addition has priority over condition\n",
      "    code, _ = SMILE2Py.translate('2+3=4+2') \n",
      "    assert eval(code) == False\n",
      "    \n",
      "    #test multiplication has priority over addition\n",
      "    code, _ = SMILE2Py.translate('2+3*5') \n",
      "    assert eval(code) == 17\n",
      "    \n",
      "    #test exponents have priority over multiplication\n",
      "    code, _ = SMILE2Py.translate('3*4^4')\n",
      "    assert eval(code) == 768\n",
      "    \n",
      "    #test parenthesis has priority over exponents\n",
      "    code, _ = SMILE2Py.translate('(3*4)^4')\n",
      "    assert eval(code) == 20736\n",
      "    \n",
      "    #test function calls have priority over parenthesis\n",
      "\n",
      "test_arithmetic()"
     ],
     "language": "python",
     "metadata": {},
     "outputs": [],
     "prompt_number": 3
    },
    {
     "cell_type": "code",
     "collapsed": false,
     "input": [
      "def test_identifiers():\n",
      "    #test that identifiers that start with reserved words get properly identified\n",
      "    code, identifiers = SMILE2Py.translate('Absolute_Mayhem')\n",
      "    assert identifiers == ['absolute_mayhem']\n",
      "    \n",
      "    #test that identifiers including newline charachters get them propery replaced with underscores\n",
      "    code, identifiers = SMILE2Py.translate('Multi\\nLine\\nIdentifier')\n",
      "    assert identifiers == ['multi_line_identifier']\n",
      "    \n",
      "test_identifiers()"
     ],
     "language": "python",
     "metadata": {},
     "outputs": [],
     "prompt_number": 4
    },
    {
     "cell_type": "code",
     "collapsed": false,
     "input": [
      "import pysd\n",
      "\n",
      "def test_XMILE():\n",
      "    #Just run through the functions to make sure they execute. \n",
      "    #Will develop more comprehensive tests in the future\n",
      "    \n",
      "    model = pysd.read_XMILE('corporate-growth.xml')\n",
      "    model.get_free_parameters()\n",
      "    model.run()\n",
      "    model.run(params={'normal_backlog':10, 'normal_delivery_rate':10})\n",
      "    model.run(return_type='numpy')\n",
      "    \n",
      "test_XMILE()"
     ],
     "language": "python",
     "metadata": {},
     "outputs": [
      {
       "output_type": "stream",
       "stream": "stdout",
       "text": [
        "Couldn't import dot_parser, loading of dot files will not be possible.\n"
       ]
      }
     ],
     "prompt_number": 5
    },
    {
     "cell_type": "code",
     "collapsed": false,
     "input": [
      "def test_vensim():\n",
      "\n",
      "    model = pysd.read_vensim('Vensim_Functions_Test.mdl')\n",
      "    model.run()\n",
      "    \n",
      "test_vensim()"
     ],
     "language": "python",
     "metadata": {},
     "outputs": [],
     "prompt_number": 6
    },
    {
     "cell_type": "code",
     "collapsed": false,
     "input": [
      "model = pysd.read_vensim('Vensim_Functions_Test.mdl')\n",
      "print model.get_derivative_function_string()"
     ],
     "language": "python",
     "metadata": {},
     "outputs": [
      {
       "output_type": "stream",
       "stream": "stdout",
       "text": [
        "def dstocks_dt(stocks, t): \n",
        "\n",
        "    dummy, = stocks\n",
        "\n",
        "    test_abs = abs(-5)\n",
        "    test_exp = np.exp(test_abs)\n",
        "    test_if_then_else = functions.if_then_else(test_exp> 0, 65.5 , -9.2 )\n",
        "    test_integer = int(test_if_then_else)\n",
        "    test_ln = np.log(test_integer)\n",
        "    test_random_normal = functions.bounded_normal( 0 , 1000 , test_ln, 5 , 0 )\n",
        "    test_max = max(test_ln, 4)\n",
        "    test_min = min(test_max, 71.993)\n",
        "    test_modulo = np.mod(test_min, 17)\n",
        "    test_sin = np.sin(test_if_then_else)\n",
        "    test_sqrt = np.sqrt(test_exp)\n",
        "    test_step = functions.step(test_abs, 10 , t)\n",
        "    flow = test_step\n",
        "    test_pulse_train = functions.pulse_train(test_min, 2 , 5 , 50 , t)\n",
        "    test_pulse = functions.pulse(test_modulo, 5 , t)\n",
        "    ddummy_dt = flow\n",
        "    test_ramp = functions.ramp( test_max, 5 , 10 , t)\n",
        "    test_random_uniform = np.random.rand(test_integer, 2* test_integer, 0 )\n",
        "\n",
        "    return [ddummy_dt]\n"
       ]
      }
     ],
     "prompt_number": 7
    },
    {
     "cell_type": "markdown",
     "metadata": {},
     "source": [
      "#Ongoing Problems:\n",
      "\n",
      "- It doesn't work when there are no stocks. Do we want to handle such a case as that?\n",
      "- Can't initialize a stock with another variable"
     ]
    },
    {
     "cell_type": "code",
     "collapsed": false,
     "input": [],
     "language": "python",
     "metadata": {},
     "outputs": [],
     "prompt_number": 7
    }
   ],
   "metadata": {}
  }
 ]
}