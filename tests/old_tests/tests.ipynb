{
 "cells": [
  {
   "cell_type": "code",
   "execution_count": 10,
   "metadata": {
    "collapsed": false
   },
   "outputs": [],
   "source": [
    "import glob\n",
    "import pysd"
   ]
  },
  {
   "cell_type": "markdown",
   "metadata": {},
   "source": [
    "documentation on how to sort the profile output is here: https://docs.python.org/2/library/profile.html#pstats.Stats.sort_stats"
   ]
  },
  {
   "cell_type": "code",
   "execution_count": 12,
   "metadata": {
    "collapsed": false
   },
   "outputs": [
    {
     "data": {
      "text/plain": [
       "114"
      ]
     },
     "execution_count": 12,
     "metadata": {},
     "output_type": "execute_result"
    }
   ],
   "source": [
    "# load model files from system zoo: \n",
    "# http://www.usf.uni-kassel.de/cesr/index.php?option=com_remository&Itemid=141&func=fileinfo&id=109\n",
    "mdl_files = glob.glob('vensim/ZOO MDL/*/*/*/*.mdl')\n",
    "len(mdl_files)"
   ]
  },
  {
   "cell_type": "code",
   "execution_count": 16,
   "metadata": {
    "collapsed": false
   },
   "outputs": [
    {
     "name": "stdout",
     "output_type": "stream",
     "text": [
      "vensim/ZOO MDL/ZOO MDL/Zoo 1 E models/System Zoo Pt 1/EZ101 Integration.mdl\n",
      "fail import\n",
      "vensim/ZOO MDL/ZOO MDL/Zoo 1 E models/System Zoo Pt 1/EZ102A State.mdl\n",
      "fail import\n",
      "vensim/ZOO MDL/ZOO MDL/Zoo 1 E models/System Zoo Pt 1/EZ102B State.mdl\n",
      "fail import\n",
      "vensim/ZOO MDL/ZOO MDL/Zoo 1 E models/System Zoo Pt 1/EZ102C State.mdl\n",
      "fail import\n",
      "vensim/ZOO MDL/ZOO MDL/Zoo 1 E models/System Zoo Pt 1/EZ102D State.mdl\n",
      "fail import\n",
      "vensim/ZOO MDL/ZOO MDL/Zoo 1 E models/System Zoo Pt 1/EZ103 Growth.mdl\n",
      "fail import\n",
      "vensim/ZOO MDL/ZOO MDL/Zoo 1 E models/System Zoo Pt 1/EZ104 Delay.mdl\n",
      "fail import\n",
      "vensim/ZOO MDL/ZOO MDL/Zoo 1 E models/System Zoo Pt 1/EZ105 Timefunction.mdl\n",
      "fail import\n",
      "vensim/ZOO MDL/ZOO MDL/Zoo 1 E models/System Zoo Pt 1/EZ106A Popdynamics.mdl\n",
      "fail import\n",
      "vensim/ZOO MDL/ZOO MDL/Zoo 1 E models/System Zoo Pt 1/EZ106B Popdynamics.mdl\n",
      "fail import\n",
      "vensim/ZOO MDL/ZOO MDL/Zoo 1 E models/System Zoo Pt 1/EZ107 Infect.mdl\n",
      "fail import\n",
      "vensim/ZOO MDL/ZOO MDL/Zoo 1 E models/System Zoo Pt 1/EZ108 Overflow.mdl\n",
      "fail import\n",
      "vensim/ZOO MDL/ZOO MDL/Zoo 1 E models/System Zoo Pt 1/EZ109A logistGrowth.mdl\n",
      "fail import\n",
      "vensim/ZOO MDL/ZOO MDL/Zoo 1 E models/System Zoo Pt 1/EZ109B logistGrowth.mdl\n",
      "fail import\n",
      "vensim/ZOO MDL/ZOO MDL/Zoo 1 E models/System Zoo Pt 1/EZ110 sustainHarvest.mdl\n",
      "fail import\n",
      "vensim/ZOO MDL/ZOO MDL/Zoo 1 E models/System Zoo Pt 1/EZ111 MichMentenGrowth.mdl\n",
      "fail import\n",
      "vensim/ZOO MDL/ZOO MDL/Zoo 1 E models/System Zoo Pt 1/EZ112 doubleIntegration.mdl\n",
      "fail import\n",
      "vensim/ZOO MDL/ZOO MDL/Zoo 1 E models/System Zoo Pt 1/EZ113 Transition.mdl\n",
      "fail import\n",
      "vensim/ZOO MDL/ZOO MDL/Zoo 1 E models/System Zoo Pt 1/EZ114 Oscillator2.mdl\n",
      "fail import\n",
      "vensim/ZOO MDL/ZOO MDL/Zoo 1 E models/System Zoo Pt 1/EZ115 State_oscillator.mdl\n",
      "fail import\n",
      "vensim/ZOO MDL/ZOO MDL/Zoo 1 E models/System Zoo Pt 1/EZ115 StateDiagram.mdl\n",
      "fail import\n",
      "vensim/ZOO MDL/ZOO MDL/Zoo 1 E models/System Zoo Pt 1/EZ116 tripleIntegration.mdl\n",
      "fail import\n",
      "vensim/ZOO MDL/ZOO MDL/Zoo 1 E models/System Zoo Pt 1/EZ117 Oscillator3.mdl\n",
      "fail import\n",
      "vensim/ZOO MDL/ZOO MDL/Zoo 1 E models/System Zoo Pt 2/EZ201 Pendulum.mdl\n",
      "fail import\n",
      "vensim/ZOO MDL/ZOO MDL/Zoo 1 E models/System Zoo Pt 2/EZ201 Z_Pendulum.mdl\n",
      "fail import\n",
      "vensim/ZOO MDL/ZOO MDL/Zoo 1 E models/System Zoo Pt 2/EZ202 vanderPol.mdl\n",
      "fail import\n",
      "vensim/ZOO MDL/ZOO MDL/Zoo 1 E models/System Zoo Pt 2/EZ203 Brusselator.mdl\n",
      "fail import\n",
      "vensim/ZOO MDL/ZOO MDL/Zoo 1 E models/System Zoo Pt 2/EZ203 Z_Brusselator.mdl\n",
      "fail import\n",
      "vensim/ZOO MDL/ZOO MDL/Zoo 1 E models/System Zoo Pt 2/EZ204 BiOscillator.mdl\n",
      "fail import\n",
      "vensim/ZOO MDL/ZOO MDL/Zoo 1 E models/System Zoo Pt 2/EZ204 Z_BiOscillator.mdl\n",
      "fail import\n",
      "vensim/ZOO MDL/ZOO MDL/Zoo 1 E models/System Zoo Pt 2/EZ205 ChaosOscillator.mdl\n",
      "fail import\n",
      "vensim/ZOO MDL/ZOO MDL/Zoo 1 E models/System Zoo Pt 2/EZ206 LorenzChaos.mdl\n",
      "fail import\n",
      "vensim/ZOO MDL/ZOO MDL/Zoo 1 E models/System Zoo Pt 2/EZ207 RoesslerChaos.mdl\n",
      "fail import\n",
      "vensim/ZOO MDL/ZOO MDL/Zoo 1 E models/System Zoo Pt 2/EZ208 DynamoChaos.mdl\n",
      "fail import\n",
      "vensim/ZOO MDL/ZOO MDL/Zoo 1 E models/System Zoo Pt 2/EZ209 Balancer.mdl\n",
      "fail import\n",
      "vensim/ZOO MDL/ZOO MDL/Zoo 1 E models/System Zoo Pt 2/EZ210 Thermal.mdl\n",
      "fail import\n",
      "vensim/ZOO MDL/ZOO MDL/Zoo 1 E models/System Zoo Pt 2/EZ211 FlightDynamics.mdl\n",
      "fail import\n",
      "vensim/ZOO MDL/ZOO MDL/Zoo 1 E models/System Zoo Pt 2/EZ212 HouseHeat.mdl\n",
      "fail import\n",
      "vensim/ZOO MDL/ZOO MDL/Zoo 1 E models/System Zoo Pt 2/EZ213 Heatflow.mdl\n",
      "fail import\n",
      "vensim/ZOO MDL/ZOO MDL/Zoo 1 E models/System Zoo Pt 2/EZ214 FluidFlow.mdl\n",
      "fail import\n",
      "vensim/ZOO MDL/ZOO MDL/Zoo 2 E models/System Zoo Pt 3/EZ301 watershed.mdl\n",
      "fail import\n",
      "vensim/ZOO MDL/ZOO MDL/Zoo 2 E models/System Zoo Pt 3/EZ302 Cglobal.mdl\n",
      "fail import\n",
      "vensim/ZOO MDL/ZOO MDL/Zoo 2 E models/System Zoo Pt 3/EZ303 CO2dynamics.mdl\n",
      "fail import\n",
      "vensim/ZOO MDL/ZOO MDL/Zoo 2 E models/System Zoo Pt 3/EZ304 deforestation.mdl\n",
      "fail import\n",
      "vensim/ZOO MDL/ZOO MDL/Zoo 2 E models/System Zoo Pt 3/EZ305 CBudgetForest.mdl\n",
      "fail import\n",
      "vensim/ZOO MDL/ZOO MDL/Zoo 2 E models/System Zoo Pt 3/EZ306 Ctraffic.mdl\n",
      "fail import\n",
      "vensim/ZOO MDL/ZOO MDL/Zoo 2 E models/System Zoo Pt 3/EZ307 Photosyn.mdl\n",
      "fail import\n",
      "vensim/ZOO MDL/ZOO MDL/Zoo 2 E models/System Zoo Pt 3/EZ308 Forest.mdl\n",
      "fail import\n",
      "vensim/ZOO MDL/ZOO MDL/Zoo 2 E models/System Zoo Pt 3/EZ308 Z_Forest.mdl\n",
      "fail import\n",
      "vensim/ZOO MDL/ZOO MDL/Zoo 2 E models/System Zoo Pt 3/EZ309 Treedieback.mdl\n",
      "fail import\n",
      "vensim/ZOO MDL/ZOO MDL/Zoo 2 E models/System Zoo Pt 3/EZ310 Soilwater.mdl\n",
      "fail import\n",
      "vensim/ZOO MDL/ZOO MDL/Zoo 2 E models/System Zoo Pt 3/EZ311 Humus.mdl\n",
      "fail import\n",
      "vensim/ZOO MDL/ZOO MDL/Zoo 2 E models/System Zoo Pt 3/EZ312 Fieldcrop.mdl\n",
      "fail import\n",
      "vensim/ZOO MDL/ZOO MDL/Zoo 2 E models/System Zoo Pt 3/EZ313 Food.mdl\n",
      "fail import\n",
      "vensim/ZOO MDL/ZOO MDL/Zoo 2 E models/System Zoo Pt 3/EZ314 Farms.mdl\n",
      "fail import\n",
      "vensim/ZOO MDL/ZOO MDL/Zoo 2 E models/System Zoo Pt 4/EZ401 predator nolimit.mdl\n",
      "fail import\n",
      "vensim/ZOO MDL/ZOO MDL/Zoo 2 E models/System Zoo Pt 4/EZ402A Predator limit.mdl\n",
      "fail import\n",
      "vensim/ZOO MDL/ZOO MDL/Zoo 2 E models/System Zoo Pt 4/EZ402B Predator limit.mdl\n",
      "fail import\n",
      "vensim/ZOO MDL/ZOO MDL/Zoo 2 E models/System Zoo Pt 4/EZ403 Predator 2 prey.mdl\n",
      "fail import\n",
      "vensim/ZOO MDL/ZOO MDL/Zoo 2 E models/System Zoo Pt 4/EZ404 Prey 2 predators.mdl\n",
      "fail import\n",
      "vensim/ZOO MDL/ZOO MDL/Zoo 2 E models/System Zoo Pt 4/EZ405 Kaibab.mdl\n",
      "fail import\n",
      "vensim/ZOO MDL/ZOO MDL/Zoo 2 E models/System Zoo Pt 4/EZ406 Forest & birds.mdl\n",
      "fail import\n",
      "vensim/ZOO MDL/ZOO MDL/Zoo 2 E models/System Zoo Pt 4/EZ407 Plant competition.mdl\n",
      "fail import\n",
      "vensim/ZOO MDL/ZOO MDL/Zoo 2 E models/System Zoo Pt 4/EZ408 Fishpond.mdl\n",
      "fail import\n",
      "vensim/ZOO MDL/ZOO MDL/Zoo 2 E models/System Zoo Pt 4/EZ409  Fishing.mdl\n",
      "fail import\n",
      "vensim/ZOO MDL/ZOO MDL/Zoo 2 E models/System Zoo Pt 4/EZ409  Z_Fishing.mdl\n",
      "fail import\n",
      "vensim/ZOO MDL/ZOO MDL/Zoo 2 E models/System Zoo Pt 4/EZ410 FishSonar_opt.mdl\n",
      "fail import\n",
      "vensim/ZOO MDL/ZOO MDL/Zoo 2 E models/System Zoo Pt 4/EZ410 Z_FishSonar.mdl\n",
      "fail import\n",
      "vensim/ZOO MDL/ZOO MDL/Zoo 2 E models/System Zoo Pt 4/EZ411 Tourist.mdl\n",
      "fail import\n",
      "vensim/ZOO MDL/ZOO MDL/Zoo 2 E models/System Zoo Pt 4/EZ412A Tourism_A.mdl\n",
      "fail import\n",
      "vensim/ZOO MDL/ZOO MDL/Zoo 2 E models/System Zoo Pt 4/EZ412B Tourism_B.mdl\n",
      "fail import\n",
      "vensim/ZOO MDL/ZOO MDL/Zoo 2 E models/System Zoo Pt 4/EZ412C Tourism_C.mdl\n",
      "fail import\n",
      "vensim/ZOO MDL/ZOO MDL/Zoo 2 E models/System Zoo Pt 4/EZ412D Tourism_D.mdl\n",
      "fail import\n",
      "vensim/ZOO MDL/ZOO MDL/Zoo 2 E models/System Zoo Pt 4/EZ413 Forest clearing.mdl\n",
      "fail import\n",
      "vensim/ZOO MDL/ZOO MDL/Zoo 2 E models/System Zoo Pt 4/EZ414 Resource.mdl\n",
      "fail import\n",
      "vensim/ZOO MDL/ZOO MDL/Zoo 2 E models/System Zoo Pt 4/EZ415 Resource use.mdl\n",
      "fail import\n",
      "vensim/ZOO MDL/ZOO MDL/Zoo 2 E models/System Zoo Pt 4/EZ416 Overuse.mdl\n",
      "fail import\n",
      "vensim/ZOO MDL/ZOO MDL/Zoo 2 E models/System Zoo Pt 4/EZ417 Commons.mdl\n",
      "fail import\n",
      "vensim/ZOO MDL/ZOO MDL/Zoo 2 E models/System Zoo Pt 4/EZ417 Z_Commons.mdl\n",
      "fail import\n",
      "vensim/ZOO MDL/ZOO MDL/Zoo 2 E models/System Zoo Pt 4/EZ418 Sustainable.mdl\n",
      "fail import\n",
      "vensim/ZOO MDL/ZOO MDL/Zoo 2 E models/System Zoo Pt 4/EZ418 Z_Sustainable.mdl\n",
      "fail import\n",
      "vensim/ZOO MDL/ZOO MDL/Zoo 3 E models/System Zoo Pt 5/EZ501 Supply chain.mdl\n",
      "fail import\n",
      "vensim/ZOO MDL/ZOO MDL/Zoo 3 E models/System Zoo Pt 5/EZ502 Orders.mdl\n",
      "fail import\n",
      "vensim/ZOO MDL/ZOO MDL/Zoo 3 E models/System Zoo Pt 5/EZ503A Production & inventory.mdl\n",
      "fail import\n",
      "vensim/ZOO MDL/ZOO MDL/Zoo 3 E models/System Zoo Pt 5/EZ503B Production cycle.mdl\n",
      "fail import\n",
      "vensim/ZOO MDL/ZOO MDL/Zoo 3 E models/System Zoo Pt 5/EZ504 Market & price.mdl\n",
      "fail import\n",
      "vensim/ZOO MDL/ZOO MDL/Zoo 3 E models/System Zoo Pt 5/EZ505 Market competition.mdl\n",
      "fail import\n",
      "vensim/ZOO MDL/ZOO MDL/Zoo 3 E models/System Zoo Pt 5/EZ506 Resource competition.mdl\n",
      "fail import\n",
      "vensim/ZOO MDL/ZOO MDL/Zoo 3 E models/System Zoo Pt 5/EZ506 Z_Resource competition.mdl\n",
      "fail import\n",
      "vensim/ZOO MDL/ZOO MDL/Zoo 3 E models/System Zoo Pt 5/EZ507 Escalation.mdl\n",
      "fail import\n",
      "vensim/ZOO MDL/ZOO MDL/Zoo 3 E models/System Zoo Pt 5/EZ508 Dependence.mdl\n",
      "fail import\n",
      "vensim/ZOO MDL/ZOO MDL/Zoo 3 E models/System Zoo Pt 5/EZ508 Z_Dependence.mdl\n",
      "fail import\n",
      "vensim/ZOO MDL/ZOO MDL/Zoo 3 E models/System Zoo Pt 5/EZ509 Aggression.mdl\n",
      "fail import\n",
      "vensim/ZOO MDL/ZOO MDL/Zoo 3 E models/System Zoo Pt 5/EZ510 Life plan.mdl\n",
      "fail import\n",
      "vensim/ZOO MDL/ZOO MDL/Zoo 3 E models/System Zoo Pt 5/EZ511 Unemployment.mdl\n",
      "fail import\n",
      "vensim/ZOO MDL/ZOO MDL/Zoo 3 E models/System Zoo Pt 5/EZ512 Productivity.mdl\n",
      "fail import\n",
      "vensim/ZOO MDL/ZOO MDL/Zoo 3 E models/System Zoo Pt 5/EZ513 Production.mdl\n",
      "fail import\n",
      "vensim/ZOO MDL/ZOO MDL/Zoo 3 E models/System Zoo Pt 5/EZ515 Ecomobile.mdl\n",
      "fail import\n",
      "vensim/ZOO MDL/ZOO MDL/Zoo 3 E models/System Zoo Pt 6/EZ601 Population3 Kenya.mdl\n",
      "fail import\n",
      "vensim/ZOO MDL/ZOO MDL/Zoo 3 E models/System Zoo Pt 6/EZ601 Population3.mdl\n",
      "fail import\n",
      "vensim/ZOO MDL/ZOO MDL/Zoo 3 E models/System Zoo Pt 6/EZ602 Population4.mdl\n",
      "fail import\n",
      "vensim/ZOO MDL/ZOO MDL/Zoo 3 E models/System Zoo Pt 6/EZ603 Pensions supplement.mdl\n",
      "fail import\n",
      "vensim/ZOO MDL/ZOO MDL/Zoo 3 E models/System Zoo Pt 6/EZ603 Pensions4.mdl\n",
      "fail import\n",
      "vensim/ZOO MDL/ZOO MDL/Zoo 3 E models/System Zoo Pt 6/EZ604 Community.mdl\n",
      "fail import\n",
      "vensim/ZOO MDL/ZOO MDL/Zoo 3 E models/System Zoo Pt 6/EZ605 Miniworld.mdl\n",
      "fail import\n",
      "vensim/ZOO MDL/ZOO MDL/Zoo 3 E models/System Zoo Pt 6/EZ606 Orientation.mdl\n",
      "fail import\n",
      "vensim/ZOO MDL/ZOO MDL/Zoo 3 E models/System Zoo Pt 6/EZ606 OriMiniworld.mdl\n",
      "fail import\n",
      "vensim/ZOO MDL/ZOO MDL/Zoo 3 E models/System Zoo Pt 6/EZ607 Debt crisis.mdl\n",
      "fail import\n",
      "vensim/ZOO MDL/ZOO MDL/Zoo 3 E models/System Zoo Pt 6/EZ607 Z_Debt crisis.mdl\n",
      "fail import\n",
      "vensim/ZOO MDL/ZOO MDL/Zoo 3 E models/System Zoo Pt 6/EZ608 Globalization.mdl\n",
      "fail import\n",
      "vensim/ZOO MDL/ZOO MDL/Zoo 3 E models/System Zoo Pt 6/EZ609 African village.mdl\n",
      "fail import\n",
      "vensim/ZOO MDL/ZOO MDL/Zoo 3 E models/System Zoo Pt 6/EZ610 World2.mdl\n",
      "fail import\n",
      "vensim/ZOO MDL/ZOO MDL/Zoo 3 E models/System Zoo Pt 6/EZ611 Orient World2.mdl\n",
      "fail import\n",
      "vensim/ZOO MDL/ZOO MDL/Zoo 3 E models/System Zoo Pt 6/EZ612 World3_03.mdl\n",
      "fail import\n"
     ]
    }
   ],
   "source": [
    "for mdl_file in mdl_files:\n",
    "    print mdl_file\n",
    "    try:\n",
    "        model = pysd.read_vensim(mdl_file)\n",
    "        try:\n",
    "            model.run()\n",
    "        except:\n",
    "            print 'fail run'\n",
    "    except:\n",
    "        print 'fail import'\n",
    "    "
   ]
  },
  {
   "cell_type": "code",
   "execution_count": 6,
   "metadata": {
    "collapsed": true
   },
   "outputs": [],
   "source": [
    "%load_ext line_profiler\n",
    "#import line_profiler as lp"
   ]
  },
  {
   "cell_type": "code",
   "execution_count": 4,
   "metadata": {
    "collapsed": false
   },
   "outputs": [],
   "source": [
    "import pysd\n",
    "model = pysd.read_vensim('vensim/Teacup.mdl') "
   ]
  },
  {
   "cell_type": "code",
   "execution_count": 15,
   "metadata": {
    "collapsed": true
   },
   "outputs": [],
   "source": [
    "from pysd.translators import import_vensim\n",
    "%lprun import_vensim('vensim/Teacup.mdl')"
   ]
  },
  {
   "cell_type": "code",
   "execution_count": 16,
   "metadata": {
    "collapsed": false
   },
   "outputs": [],
   "source": [
    "%lprun pysd.read_vensim('vensim/Teacup.mdl') "
   ]
  },
  {
   "cell_type": "code",
   "execution_count": 7,
   "metadata": {
    "collapsed": false
   },
   "outputs": [
    {
     "name": "stdout",
     "output_type": "stream",
     "text": [
      " "
     ]
    }
   ],
   "source": [
    "%prun model = pysd.read_vensim('vensim/Teacup.mdl')"
   ]
  },
  {
   "cell_type": "code",
   "execution_count": 26,
   "metadata": {
    "collapsed": false
   },
   "outputs": [
    {
     "name": "stdout",
     "output_type": "stream",
     "text": [
      " "
     ]
    }
   ],
   "source": [
    "%lprun -v model.run()"
   ]
  },
  {
   "cell_type": "code",
   "execution_count": 17,
   "metadata": {
    "collapsed": false
   },
   "outputs": [
    {
     "name": "stdout",
     "output_type": "stream",
     "text": [
      " "
     ]
    }
   ],
   "source": [
    "# look here http://ipython.org/ipython-doc/2/api/generated/IPython.core.magics.execution.html\n",
    "%prun  -s cumulative model.run()\n"
   ]
  },
  {
   "cell_type": "code",
   "execution_count": 18,
   "metadata": {
    "collapsed": false
   },
   "outputs": [
    {
     "name": "stdout",
     "output_type": "stream",
     "text": [
      " "
     ]
    }
   ],
   "source": [
    "# look here http://ipython.org/ipython-doc/2/api/generated/IPython.core.magics.execution.html\n",
    "%prun  -s time model.run()\n"
   ]
  },
  {
   "cell_type": "code",
   "execution_count": 20,
   "metadata": {
    "collapsed": false,
    "scrolled": true
   },
   "outputs": [
    {
     "ename": "NameError",
     "evalue": "global name 'hi' is not defined",
     "output_type": "error",
     "traceback": [
      "\u001b[0;31m---------------------------------------------------------------------------\u001b[0m",
      "\u001b[0;31mNameError\u001b[0m                                 Traceback (most recent call last)",
      "\u001b[0;32m<ipython-input-20-f5d04a3e6b0c>\u001b[0m in \u001b[0;36m<module>\u001b[0;34m()\u001b[0m\n\u001b[1;32m      1\u001b[0m \u001b[0;32mimport\u001b[0m \u001b[0mtimeit\u001b[0m\u001b[0;34m\u001b[0m\u001b[0m\n\u001b[1;32m      2\u001b[0m \u001b[0mhi\u001b[0m \u001b[0;34m=\u001b[0m \u001b[0;36m19\u001b[0m\u001b[0;34m\u001b[0m\u001b[0m\n\u001b[0;32m----> 3\u001b[0;31m \u001b[0mtimeit\u001b[0m\u001b[0;34m.\u001b[0m\u001b[0mtimeit\u001b[0m\u001b[0;34m(\u001b[0m\u001b[0;34m'hi*3'\u001b[0m\u001b[0;34m)\u001b[0m\u001b[0;34m\u001b[0m\u001b[0m\n\u001b[0m",
      "\u001b[0;32m/System/Library/Frameworks/Python.framework/Versions/2.7/lib/python2.7/timeit.pyc\u001b[0m in \u001b[0;36mtimeit\u001b[0;34m(stmt, setup, timer, number)\u001b[0m\n\u001b[1;32m    228\u001b[0m            number=default_number):\n\u001b[1;32m    229\u001b[0m     \u001b[0;34m\"\"\"Convenience function to create Timer object and call timeit method.\"\"\"\u001b[0m\u001b[0;34m\u001b[0m\u001b[0m\n\u001b[0;32m--> 230\u001b[0;31m     \u001b[0;32mreturn\u001b[0m \u001b[0mTimer\u001b[0m\u001b[0;34m(\u001b[0m\u001b[0mstmt\u001b[0m\u001b[0;34m,\u001b[0m \u001b[0msetup\u001b[0m\u001b[0;34m,\u001b[0m \u001b[0mtimer\u001b[0m\u001b[0;34m)\u001b[0m\u001b[0;34m.\u001b[0m\u001b[0mtimeit\u001b[0m\u001b[0;34m(\u001b[0m\u001b[0mnumber\u001b[0m\u001b[0;34m)\u001b[0m\u001b[0;34m\u001b[0m\u001b[0m\n\u001b[0m\u001b[1;32m    231\u001b[0m \u001b[0;34m\u001b[0m\u001b[0m\n\u001b[1;32m    232\u001b[0m def repeat(stmt=\"pass\", setup=\"pass\", timer=default_timer,\n",
      "\u001b[0;32m/System/Library/Frameworks/Python.framework/Versions/2.7/lib/python2.7/timeit.pyc\u001b[0m in \u001b[0;36mtimeit\u001b[0;34m(self, number)\u001b[0m\n\u001b[1;32m    193\u001b[0m         \u001b[0mgc\u001b[0m\u001b[0;34m.\u001b[0m\u001b[0mdisable\u001b[0m\u001b[0;34m(\u001b[0m\u001b[0;34m)\u001b[0m\u001b[0;34m\u001b[0m\u001b[0m\n\u001b[1;32m    194\u001b[0m         \u001b[0;32mtry\u001b[0m\u001b[0;34m:\u001b[0m\u001b[0;34m\u001b[0m\u001b[0m\n\u001b[0;32m--> 195\u001b[0;31m             \u001b[0mtiming\u001b[0m \u001b[0;34m=\u001b[0m \u001b[0mself\u001b[0m\u001b[0;34m.\u001b[0m\u001b[0minner\u001b[0m\u001b[0;34m(\u001b[0m\u001b[0mit\u001b[0m\u001b[0;34m,\u001b[0m \u001b[0mself\u001b[0m\u001b[0;34m.\u001b[0m\u001b[0mtimer\u001b[0m\u001b[0;34m)\u001b[0m\u001b[0;34m\u001b[0m\u001b[0m\n\u001b[0m\u001b[1;32m    196\u001b[0m         \u001b[0;32mfinally\u001b[0m\u001b[0;34m:\u001b[0m\u001b[0;34m\u001b[0m\u001b[0m\n\u001b[1;32m    197\u001b[0m             \u001b[0;32mif\u001b[0m \u001b[0mgcold\u001b[0m\u001b[0;34m:\u001b[0m\u001b[0;34m\u001b[0m\u001b[0m\n",
      "\u001b[0;32m/System/Library/Frameworks/Python.framework/Versions/2.7/lib/python2.7/timeit.pyc\u001b[0m in \u001b[0;36minner\u001b[0;34m(_it, _timer)\u001b[0m\n",
      "\u001b[0;31mNameError\u001b[0m: global name 'hi' is not defined"
     ]
    }
   ],
   "source": [
    "import timeit\n",
    "hi = 19\n",
    "timeit.timeit('hi*3')"
   ]
  },
  {
   "cell_type": "code",
   "execution_count": 22,
   "metadata": {
    "collapsed": false
   },
   "outputs": [
    {
     "ename": "SyntaxError",
     "evalue": "lambda cannot contain assignment (<ipython-input-22-b6af94de93ab>, line 2)",
     "output_type": "error",
     "traceback": [
      "\u001b[0;36m  File \u001b[0;32m\"<ipython-input-22-b6af94de93ab>\"\u001b[0;36m, line \u001b[0;32m2\u001b[0m\n\u001b[0;31m    t = Timer(lambda: model = pysd.read_vensim('vensim/Teacup.mdl'))\u001b[0m\n\u001b[0;31mSyntaxError\u001b[0m\u001b[0;31m:\u001b[0m lambda cannot contain assignment\n"
     ]
    }
   ],
   "source": [
    "from timeit import Timer\n",
    "t = Timer(lambda: pysd.read_vensim('vensim/Teacup.mdl'))\n",
    "print t.timeit(number=1)"
   ]
  },
  {
   "cell_type": "code",
   "execution_count": 32,
   "metadata": {
    "collapsed": false
   },
   "outputs": [],
   "source": [
    "import pstats, cProfile\n",
    "import pysd\n",
    "\n",
    "model = pysd.read_vensim('vensim/Teacup.mdl')\n",
    "\n",
    "\n",
    "#cProfile.run(pysd.read_vensim('vensim/Teacup.mdl'), 'prof_import.prof')\n",
    "cProfile.runctx(\"model.run()\", globals(), locals(), \"prof_import.prof\")\n",
    "\n",
    "#s = pstats.Stats(\"Profile.prof\")\n",
    "#s.strip_dirs().sort_stats(\"time\").print_stats()"
   ]
  },
  {
   "cell_type": "code",
   "execution_count": 35,
   "metadata": {
    "collapsed": false
   },
   "outputs": [
    {
     "name": "stdout",
     "output_type": "stream",
     "text": [
      "[cProfileV]: cProfile output available at http://127.0.0.1:4000\r\n",
      "Traceback (most recent call last):\r\n",
      "  File \"/usr/local/bin/cprofilev\", line 9, in <module>\r\n",
      "    load_entry_point('CProfileV==1.0.6', 'console_scripts', 'cprofilev')()\r\n",
      "  File \"/Library/Python/2.7/site-packages/cprofilev.py\", line 203, in main\r\n",
      "    cprofilev.start()\r\n",
      "  File \"/Library/Python/2.7/site-packages/cprofilev.py\", line 171, in start\r\n",
      "    self.app.run(host=self.address, port=self.port, quiet=True)\r\n",
      "  File \"/usr/local/bin/bottle.py\", line 755, in run\r\n",
      "    run(self, **kwargs)\r\n",
      "  File \"/usr/local/bin/bottle.py\", line 3117, in run\r\n",
      "    server.run(app)\r\n",
      "  File \"/usr/local/bin/bottle.py\", line 2771, in run\r\n",
      "    srv = make_server(self.host, self.port, app, server_cls, handler_cls)\r\n",
      "  File \"/System/Library/Frameworks/Python.framework/Versions/2.7/lib/python2.7/wsgiref/simple_server.py\", line 144, in make_server\r\n",
      "    server = server_class((host, port), handler_class)\r\n",
      "  File \"/System/Library/Frameworks/Python.framework/Versions/2.7/lib/python2.7/SocketServer.py\", line 419, in __init__\r\n",
      "    self.server_bind()\r\n",
      "  File \"/System/Library/Frameworks/Python.framework/Versions/2.7/lib/python2.7/wsgiref/simple_server.py\", line 48, in server_bind\r\n",
      "    HTTPServer.server_bind(self)\r\n",
      "  File \"/System/Library/Frameworks/Python.framework/Versions/2.7/lib/python2.7/BaseHTTPServer.py\", line 108, in server_bind\r\n",
      "    SocketServer.TCPServer.server_bind(self)\r\n",
      "  File \"/System/Library/Frameworks/Python.framework/Versions/2.7/lib/python2.7/SocketServer.py\", line 430, in server_bind\r\n",
      "    self.socket.bind(self.server_address)\r\n",
      "  File \"/System/Library/Frameworks/Python.framework/Versions/2.7/lib/python2.7/socket.py\", line 224, in meth\r\n",
      "    return getattr(self._sock,name)(*args)\r\n",
      "socket.error: [Errno 48] Address already in use\r\n"
     ]
    }
   ],
   "source": [
    "! cprofilev -f prof_import.prof"
   ]
  },
  {
   "cell_type": "code",
   "execution_count": 11,
   "metadata": {
    "collapsed": false
   },
   "outputs": [
    {
     "ename": "SyntaxError",
     "evalue": "invalid syntax (<ipython-input-11-8f5139529268>, line 1)",
     "output_type": "error",
     "traceback": [
      "\u001b[0;36m  File \u001b[0;32m\"<ipython-input-11-8f5139529268>\"\u001b[0;36m, line \u001b[0;32m1\u001b[0m\n\u001b[0;31m    python -m cprofilev profile_pysd.py\u001b[0m\n\u001b[0m                      ^\u001b[0m\n\u001b[0;31mSyntaxError\u001b[0m\u001b[0;31m:\u001b[0m invalid syntax\n"
     ]
    }
   ],
   "source": [
    "python -m cprofilev profile_pysd.py"
   ]
  },
  {
   "cell_type": "code",
   "execution_count": 23,
   "metadata": {
    "collapsed": false
   },
   "outputs": [
    {
     "name": "stdout",
     "output_type": "stream",
     "text": [
      "100000 loops, best of 3: 7.32 µs per loop\n"
     ]
    }
   ],
   "source": [
    "from itertools import izip\n",
    "keys = range(100)\n",
    "values = range(100)\n",
    "\n",
    "%timeit dict(zip(keys,values))"
   ]
  },
  {
   "cell_type": "code",
   "execution_count": 24,
   "metadata": {
    "collapsed": false
   },
   "outputs": [
    {
     "name": "stdout",
     "output_type": "stream",
     "text": [
      "100000 loops, best of 3: 5.07 µs per loop\n"
     ]
    }
   ],
   "source": [
    "%timeit dict(izip(keys,values))"
   ]
  },
  {
   "cell_type": "code",
   "execution_count": 37,
   "metadata": {
    "collapsed": false
   },
   "outputs": [],
   "source": [
    "def hi():\n",
    "    return 'hi'\n",
    "    \n",
    "def there():\n",
    "    return 'there'\n",
    "    \n",
    "funclist = []\n",
    "funclist.append(hi)\n",
    "funclist.append(there)\n",
    "    "
   ]
  },
  {
   "cell_type": "code",
   "execution_count": 38,
   "metadata": {
    "collapsed": false
   },
   "outputs": [
    {
     "data": {
      "text/plain": [
       "['hi', 'there']"
      ]
     },
     "execution_count": 38,
     "metadata": {},
     "output_type": "execute_result"
    }
   ],
   "source": [
    "[f() for f in funclist]"
   ]
  },
  {
   "cell_type": "code",
   "execution_count": 42,
   "metadata": {
    "collapsed": false
   },
   "outputs": [
    {
     "data": {
      "text/plain": [
       "0"
      ]
     },
     "execution_count": 42,
     "metadata": {},
     "output_type": "execute_result"
    }
   ],
   "source": [
    "l = ['a']\n",
    "l.index('a')"
   ]
  },
  {
   "cell_type": "code",
   "execution_count": 45,
   "metadata": {
    "collapsed": false
   },
   "outputs": [],
   "source": [
    "l2 = []\n",
    "l2.insert(0, 'hi')"
   ]
  },
  {
   "cell_type": "code",
   "execution_count": 44,
   "metadata": {
    "collapsed": false
   },
   "outputs": [
    {
     "ename": "TypeError",
     "evalue": "an integer is required",
     "output_type": "error",
     "traceback": [
      "\u001b[0;31m---------------------------------------------------------------------------\u001b[0m",
      "\u001b[0;31mTypeError\u001b[0m                                 Traceback (most recent call last)",
      "\u001b[0;32m<ipython-input-44-cce8542cdcf2>\u001b[0m in \u001b[0;36m<module>\u001b[0;34m()\u001b[0m\n\u001b[1;32m      1\u001b[0m \u001b[0ml3\u001b[0m \u001b[0;34m=\u001b[0m \u001b[0;34m[\u001b[0m\u001b[0;36m1\u001b[0m\u001b[0;34m,\u001b[0m \u001b[0;36m2\u001b[0m\u001b[0;34m]\u001b[0m\u001b[0;34m\u001b[0m\u001b[0m\n\u001b[0;32m----> 2\u001b[0;31m \u001b[0ml3\u001b[0m\u001b[0;34m.\u001b[0m\u001b[0minsert\u001b[0m\u001b[0;34m(\u001b[0m\u001b[0;34m'hi'\u001b[0m\u001b[0;34m,\u001b[0m\u001b[0;36m0\u001b[0m\u001b[0;34m)\u001b[0m\u001b[0;34m\u001b[0m\u001b[0m\n\u001b[0m",
      "\u001b[0;31mTypeError\u001b[0m: an integer is required"
     ]
    }
   ],
   "source": [
    "l3 = [1, 2]\n",
    "l3.insert(0'hi',0)"
   ]
  },
  {
   "cell_type": "code",
   "execution_count": 40,
   "metadata": {
    "collapsed": false
   },
   "outputs": [
    {
     "ename": "ValueError",
     "evalue": "'chewie' is not in list",
     "output_type": "error",
     "traceback": [
      "\u001b[0;31m---------------------------------------------------------------------------\u001b[0m",
      "\u001b[0;31mValueError\u001b[0m                                Traceback (most recent call last)",
      "\u001b[0;32m<ipython-input-40-687665f9ef48>\u001b[0m in \u001b[0;36m<module>\u001b[0;34m()\u001b[0m\n\u001b[0;32m----> 1\u001b[0;31m \u001b[0mindex\u001b[0m \u001b[0;34m=\u001b[0m \u001b[0mfunclist\u001b[0m\u001b[0;34m.\u001b[0m\u001b[0mindex\u001b[0m\u001b[0;34m(\u001b[0m\u001b[0;34m'chewie'\u001b[0m\u001b[0;34m)\u001b[0m\u001b[0;34m\u001b[0m\u001b[0m\n\u001b[0m",
      "\u001b[0;31mValueError\u001b[0m: 'chewie' is not in list"
     ]
    }
   ],
   "source": [
    "index = funclist.index('chewie')"
   ]
  },
  {
   "cell_type": "code",
   "execution_count": 41,
   "metadata": {
    "collapsed": false
   },
   "outputs": [
    {
     "data": {
      "text/plain": [
       "[u'teacup_temperature']"
      ]
     },
     "execution_count": 41,
     "metadata": {},
     "output_type": "execute_result"
    }
   ],
   "source": [
    "model.components._stocknames"
   ]
  },
  {
   "cell_type": "code",
   "execution_count": 47,
   "metadata": {
    "collapsed": false
   },
   "outputs": [
    {
     "data": {
      "text/html": [
       "<div style=\"max-height:1000px;max-width:1500px;overflow:auto;\">\n",
       "<table border=\"1\" class=\"dataframe\">\n",
       "  <thead>\n",
       "    <tr style=\"text-align: right;\">\n",
       "      <th></th>\n",
       "      <th>teacup_temperature</th>\n",
       "    </tr>\n",
       "  </thead>\n",
       "  <tbody>\n",
       "    <tr>\n",
       "      <th>0.000</th>\n",
       "      <td>180.000000</td>\n",
       "    </tr>\n",
       "    <tr>\n",
       "      <th>0.125</th>\n",
       "      <td>178.633556</td>\n",
       "    </tr>\n",
       "    <tr>\n",
       "      <th>0.250</th>\n",
       "      <td>177.284091</td>\n",
       "    </tr>\n",
       "    <tr>\n",
       "      <th>0.375</th>\n",
       "      <td>175.951387</td>\n",
       "    </tr>\n",
       "    <tr>\n",
       "      <th>0.500</th>\n",
       "      <td>174.635237</td>\n",
       "    </tr>\n",
       "    <tr>\n",
       "      <th>0.625</th>\n",
       "      <td>173.335438</td>\n",
       "    </tr>\n",
       "    <tr>\n",
       "      <th>0.750</th>\n",
       "      <td>172.051784</td>\n",
       "    </tr>\n",
       "    <tr>\n",
       "      <th>0.875</th>\n",
       "      <td>170.784077</td>\n",
       "    </tr>\n",
       "    <tr>\n",
       "      <th>1.000</th>\n",
       "      <td>169.532117</td>\n",
       "    </tr>\n",
       "    <tr>\n",
       "      <th>1.125</th>\n",
       "      <td>168.295709</td>\n",
       "    </tr>\n",
       "    <tr>\n",
       "      <th>1.250</th>\n",
       "      <td>167.074660</td>\n",
       "    </tr>\n",
       "    <tr>\n",
       "      <th>1.375</th>\n",
       "      <td>165.868779</td>\n",
       "    </tr>\n",
       "    <tr>\n",
       "      <th>1.500</th>\n",
       "      <td>164.677878</td>\n",
       "    </tr>\n",
       "    <tr>\n",
       "      <th>1.625</th>\n",
       "      <td>163.501771</td>\n",
       "    </tr>\n",
       "    <tr>\n",
       "      <th>1.750</th>\n",
       "      <td>162.340273</td>\n",
       "    </tr>\n",
       "    <tr>\n",
       "      <th>1.875</th>\n",
       "      <td>161.193204</td>\n",
       "    </tr>\n",
       "    <tr>\n",
       "      <th>2.000</th>\n",
       "      <td>160.060384</td>\n",
       "    </tr>\n",
       "    <tr>\n",
       "      <th>2.125</th>\n",
       "      <td>158.941636</td>\n",
       "    </tr>\n",
       "    <tr>\n",
       "      <th>2.250</th>\n",
       "      <td>157.836785</td>\n",
       "    </tr>\n",
       "    <tr>\n",
       "      <th>2.375</th>\n",
       "      <td>156.745659</td>\n",
       "    </tr>\n",
       "    <tr>\n",
       "      <th>2.500</th>\n",
       "      <td>155.668087</td>\n",
       "    </tr>\n",
       "    <tr>\n",
       "      <th>2.625</th>\n",
       "      <td>154.603901</td>\n",
       "    </tr>\n",
       "    <tr>\n",
       "      <th>2.750</th>\n",
       "      <td>153.552934</td>\n",
       "    </tr>\n",
       "    <tr>\n",
       "      <th>2.875</th>\n",
       "      <td>152.515023</td>\n",
       "    </tr>\n",
       "    <tr>\n",
       "      <th>3.000</th>\n",
       "      <td>151.490005</td>\n",
       "    </tr>\n",
       "    <tr>\n",
       "      <th>3.125</th>\n",
       "      <td>150.477720</td>\n",
       "    </tr>\n",
       "    <tr>\n",
       "      <th>3.250</th>\n",
       "      <td>149.478010</td>\n",
       "    </tr>\n",
       "    <tr>\n",
       "      <th>3.375</th>\n",
       "      <td>148.490718</td>\n",
       "    </tr>\n",
       "    <tr>\n",
       "      <th>3.500</th>\n",
       "      <td>147.515690</td>\n",
       "    </tr>\n",
       "    <tr>\n",
       "      <th>3.625</th>\n",
       "      <td>146.552775</td>\n",
       "    </tr>\n",
       "    <tr>\n",
       "      <th>...</th>\n",
       "      <td>...</td>\n",
       "    </tr>\n",
       "    <tr>\n",
       "      <th>26.250</th>\n",
       "      <td>77.968373</td>\n",
       "    </tr>\n",
       "    <tr>\n",
       "      <th>26.375</th>\n",
       "      <td>77.869389</td>\n",
       "    </tr>\n",
       "    <tr>\n",
       "      <th>26.500</th>\n",
       "      <td>77.771633</td>\n",
       "    </tr>\n",
       "    <tr>\n",
       "      <th>26.625</th>\n",
       "      <td>77.675093</td>\n",
       "    </tr>\n",
       "    <tr>\n",
       "      <th>26.750</th>\n",
       "      <td>77.579751</td>\n",
       "    </tr>\n",
       "    <tr>\n",
       "      <th>26.875</th>\n",
       "      <td>77.485594</td>\n",
       "    </tr>\n",
       "    <tr>\n",
       "      <th>27.000</th>\n",
       "      <td>77.392606</td>\n",
       "    </tr>\n",
       "    <tr>\n",
       "      <th>27.125</th>\n",
       "      <td>77.300774</td>\n",
       "    </tr>\n",
       "    <tr>\n",
       "      <th>27.250</th>\n",
       "      <td>77.210082</td>\n",
       "    </tr>\n",
       "    <tr>\n",
       "      <th>27.375</th>\n",
       "      <td>77.120517</td>\n",
       "    </tr>\n",
       "    <tr>\n",
       "      <th>27.500</th>\n",
       "      <td>77.032065</td>\n",
       "    </tr>\n",
       "    <tr>\n",
       "      <th>27.625</th>\n",
       "      <td>76.944711</td>\n",
       "    </tr>\n",
       "    <tr>\n",
       "      <th>27.750</th>\n",
       "      <td>76.858442</td>\n",
       "    </tr>\n",
       "    <tr>\n",
       "      <th>27.875</th>\n",
       "      <td>76.773246</td>\n",
       "    </tr>\n",
       "    <tr>\n",
       "      <th>28.000</th>\n",
       "      <td>76.689107</td>\n",
       "    </tr>\n",
       "    <tr>\n",
       "      <th>28.125</th>\n",
       "      <td>76.606014</td>\n",
       "    </tr>\n",
       "    <tr>\n",
       "      <th>28.250</th>\n",
       "      <td>76.523952</td>\n",
       "    </tr>\n",
       "    <tr>\n",
       "      <th>28.375</th>\n",
       "      <td>76.442910</td>\n",
       "    </tr>\n",
       "    <tr>\n",
       "      <th>28.500</th>\n",
       "      <td>76.362875</td>\n",
       "    </tr>\n",
       "    <tr>\n",
       "      <th>28.625</th>\n",
       "      <td>76.283834</td>\n",
       "    </tr>\n",
       "    <tr>\n",
       "      <th>28.750</th>\n",
       "      <td>76.205775</td>\n",
       "    </tr>\n",
       "    <tr>\n",
       "      <th>28.875</th>\n",
       "      <td>76.128686</td>\n",
       "    </tr>\n",
       "    <tr>\n",
       "      <th>29.000</th>\n",
       "      <td>76.052554</td>\n",
       "    </tr>\n",
       "    <tr>\n",
       "      <th>29.125</th>\n",
       "      <td>75.977368</td>\n",
       "    </tr>\n",
       "    <tr>\n",
       "      <th>29.250</th>\n",
       "      <td>75.903116</td>\n",
       "    </tr>\n",
       "    <tr>\n",
       "      <th>29.375</th>\n",
       "      <td>75.829786</td>\n",
       "    </tr>\n",
       "    <tr>\n",
       "      <th>29.500</th>\n",
       "      <td>75.757368</td>\n",
       "    </tr>\n",
       "    <tr>\n",
       "      <th>29.625</th>\n",
       "      <td>75.685849</td>\n",
       "    </tr>\n",
       "    <tr>\n",
       "      <th>29.750</th>\n",
       "      <td>75.615218</td>\n",
       "    </tr>\n",
       "    <tr>\n",
       "      <th>29.875</th>\n",
       "      <td>75.545464</td>\n",
       "    </tr>\n",
       "  </tbody>\n",
       "</table>\n",
       "<p>240 rows × 1 columns</p>\n",
       "</div>"
      ],
      "text/plain": [
       "        teacup_temperature\n",
       "0.000           180.000000\n",
       "0.125           178.633556\n",
       "0.250           177.284091\n",
       "0.375           175.951387\n",
       "0.500           174.635237\n",
       "0.625           173.335438\n",
       "0.750           172.051784\n",
       "0.875           170.784077\n",
       "1.000           169.532117\n",
       "1.125           168.295709\n",
       "1.250           167.074660\n",
       "1.375           165.868779\n",
       "1.500           164.677878\n",
       "1.625           163.501771\n",
       "1.750           162.340273\n",
       "1.875           161.193204\n",
       "2.000           160.060384\n",
       "2.125           158.941636\n",
       "2.250           157.836785\n",
       "2.375           156.745659\n",
       "2.500           155.668087\n",
       "2.625           154.603901\n",
       "2.750           153.552934\n",
       "2.875           152.515023\n",
       "3.000           151.490005\n",
       "3.125           150.477720\n",
       "3.250           149.478010\n",
       "3.375           148.490718\n",
       "3.500           147.515690\n",
       "3.625           146.552775\n",
       "...                    ...\n",
       "26.250           77.968373\n",
       "26.375           77.869389\n",
       "26.500           77.771633\n",
       "26.625           77.675093\n",
       "26.750           77.579751\n",
       "26.875           77.485594\n",
       "27.000           77.392606\n",
       "27.125           77.300774\n",
       "27.250           77.210082\n",
       "27.375           77.120517\n",
       "27.500           77.032065\n",
       "27.625           76.944711\n",
       "27.750           76.858442\n",
       "27.875           76.773246\n",
       "28.000           76.689107\n",
       "28.125           76.606014\n",
       "28.250           76.523952\n",
       "28.375           76.442910\n",
       "28.500           76.362875\n",
       "28.625           76.283834\n",
       "28.750           76.205775\n",
       "28.875           76.128686\n",
       "29.000           76.052554\n",
       "29.125           75.977368\n",
       "29.250           75.903116\n",
       "29.375           75.829786\n",
       "29.500           75.757368\n",
       "29.625           75.685849\n",
       "29.750           75.615218\n",
       "29.875           75.545464\n",
       "\n",
       "[240 rows x 1 columns]"
      ]
     },
     "execution_count": 47,
     "metadata": {},
     "output_type": "execute_result"
    }
   ],
   "source": [
    "model.run()"
   ]
  },
  {
   "cell_type": "code",
   "execution_count": null,
   "metadata": {
    "collapsed": true
   },
   "outputs": [],
   "source": []
  }
 ],
 "metadata": {
  "kernelspec": {
   "display_name": "Python 2",
   "language": "python",
   "name": "python2"
  },
  "language_info": {
   "codemirror_mode": {
    "name": "ipython",
    "version": 2
   },
   "file_extension": ".py",
   "mimetype": "text/x-python",
   "name": "python",
   "nbconvert_exporter": "python",
   "pygments_lexer": "ipython2",
   "version": "2.7.6"
  }
 },
 "nbformat": 4,
 "nbformat_minor": 0
}
